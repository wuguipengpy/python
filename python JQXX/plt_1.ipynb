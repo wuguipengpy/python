{
 "cells": [
  {
   "cell_type": "code",
   "execution_count": 8,
   "metadata": {},
   "outputs": [
    {
     "data": {
      "image/png": "[encoded data removed]",
      "text/plain": [
       "<matplotlib.figure.Figure at 0x170a8222748>"
      ]
     },
     "metadata": {},
     "output_type": "display_data"
    }
   ],
   "source": [
    "import matplotlib.pyplot as plt\n",
    "plt.plot([-1, -1/2], [0, 1])\n",
    "plt.plot([-1/2, 1/2], [1, -1])\n",
    "plt.plot([1/2, 1], [-1, 0])\n",
    "plt.plot([-1, 1], [0, 0])\n",
    "plt.xlabel(\"X\")\n",
    "plt.ylabel(\"Y\")\n",
    "plt.show()"
   ]
  },
  {
   "cell_type": "markdown",
   "metadata": {},
   "source": []
  },
  {
   "cell_type": "code",
   "execution_count": 10,
   "metadata": {},
   "outputs": [
    {
     "ename": "SyntaxError",
     "evalue": "invalid syntax (<ipython-input-10-5cfc0b7eefa7>, line 10)",
     "output_type": "error",
     "traceback": [
      "\u001b[1;36m  File \u001b[1;32m\"<ipython-input-10-5cfc0b7eefa7>\"\u001b[1;36m, line \u001b[1;32m10\u001b[0m\n\u001b[1;33m    fig = plt.figure()\u001b[0m\n\u001b[1;37m      ^\u001b[0m\n\u001b[1;31mSyntaxError\u001b[0m\u001b[1;31m:\u001b[0m invalid syntax\n"
     ]
    }
   ],
   "source": [
    "import matplotlib.pyplot as plt\n",
    "import math\n",
    "import numpy as np\n",
    "\n",
    "\n",
    "x = np.linspace(-math.pi, math.pi, num = 48)\n",
    "y = np.sin(x + 0.5 * np.random.standard_normal(len(x)))\n",
    "y_error = (0.1 * np.random.stendard_normal(len(x))\n",
    "\n",
    "fig = plt.figure()\n",
    "axis = fig.add_subplot(111)\n",
    "\n",
    "axis.set_ylim(-0.5 * math.pi, 0.5 * math.pi)\n",
    "\n",
    "plt.plot(x, y, 'r--', label = 'sin(x)')\n",
    "plt.errorbar(x, y, yerr = y_error)\n",
    "\n",
    "plt.legend(loc = 'best')\n",
    "plt.show()"
   ]
  },
  {
   "cell_type": "code",
   "execution_count": null,
   "metadata": {
    "collapsed": true
   },
   "outputs": [],
   "source": []
  }
 ],
 "metadata": {
  "kernelspec": {
   "display_name": "Python 3",
   "language": "python",
   "name": "python3"
  },
  "language_info": {
   "codemirror_mode": {
    "name": "ipython",
    "version": 3
   },
   "file_extension": ".py",
   "mimetype": "text/x-python",
   "name": "python",
   "nbconvert_exporter": "python",
   "pygments_lexer": "ipython3",
   "version": "3.6.1"
  }
 },
 "nbformat": 4,
 "nbformat_minor": 2
}
