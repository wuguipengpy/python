{
  "cells": [
    {
      "cell_type": "code",
      "execution_count": 6,
      "metadata": {
        "collapsed": true,
        "pycharm": {
          "is_executing": false
        }
      },
      "outputs": [
        {
          "name": "stdout",
          "text": [
            "       年龄               单位性质             学历       性别  周工作时长  \\\n0      39          State-gov      Bachelors     Male     40   \n1      50   Self-emp-not-inc      Bachelors     Male     13   \n2      38            Private        HS-grad     Male     40   \n3      53            Private           11th     Male     40   \n4      28            Private      Bachelors   Female     40   \n5      37            Private        Masters   Female     40   \n6      49            Private            9th   Female     16   \n7      52   Self-emp-not-inc        HS-grad     Male     45   \n8      31            Private        Masters   Female     50   \n9      42            Private      Bachelors     Male     40   \n10     37            Private   Some-college     Male     80   \n11     30          State-gov      Bachelors     Male     40   \n12     23            Private      Bachelors   Female     30   \n13     32            Private     Assoc-acdm     Male     50   \n14     40            Private      Assoc-voc     Male     40   \n15     34            Private        7th-8th     Male     45   \n16     25   Self-emp-not-inc        HS-grad     Male     35   \n17     32            Private        HS-grad     Male     40   \n18     38            Private           11th     Male     50   \n19     43   Self-emp-not-inc        Masters   Female     45   \n20     40            Private      Doctorate     Male     60   \n21     54            Private        HS-grad   Female     20   \n22     35        Federal-gov            9th     Male     40   \n23     43            Private           11th     Male     40   \n24     59            Private        HS-grad   Female     40   \n25     56          Local-gov      Bachelors     Male     40   \n26     19            Private        HS-grad     Male     40   \n27     54                  ?   Some-college     Male     60   \n28     39            Private        HS-grad     Male     80   \n29     49            Private        HS-grad     Male     40   \n...    ..                ...            ...      ...    ...   \n32531  30                  ?      Bachelors   Female     99   \n32532  34            Private      Doctorate     Male     60   \n32533  54            Private      Bachelors     Male     50   \n32534  37            Private   Some-college   Female     39   \n32535  22            Private           12th     Male     35   \n32536  34            Private      Bachelors   Female     55   \n32537  30            Private        HS-grad     Male     46   \n32538  38            Private      Bachelors   Female     45   \n32539  71                  ?      Doctorate     Male     10   \n32540  45          State-gov        HS-grad   Female     40   \n32541  41                  ?        HS-grad   Female     32   \n32542  72                  ?        HS-grad     Male     25   \n32543  45          Local-gov     Assoc-acdm   Female     48   \n32544  31            Private        Masters   Female     30   \n32545  39          Local-gov     Assoc-acdm   Female     20   \n32546  37            Private     Assoc-acdm   Female     40   \n32547  43            Private        HS-grad     Male     40   \n32548  65   Self-emp-not-inc    Prof-school     Male     60   \n32549  43          State-gov   Some-college   Female     40   \n32550  43   Self-emp-not-inc   Some-college     Male     50   \n32551  32            Private           10th     Male     40   \n32552  43            Private      Assoc-voc     Male     45   \n32553  32            Private        Masters     Male     11   \n32554  53            Private        Masters     Male     40   \n32555  22            Private   Some-college     Male     40   \n32556  27            Private     Assoc-acdm   Female     38   \n32557  40            Private        HS-grad     Male     40   \n32558  58            Private        HS-grad   Female     40   \n32559  22            Private        HS-grad     Male     20   \n32560  52       Self-emp-inc        HS-grad   Female     40   \n\n                       职业      收入  \n0            Adm-clerical   \u003c\u003d50K  \n1         Exec-managerial   \u003c\u003d50K  \n2       Handlers-cleaners   \u003c\u003d50K  \n3       Handlers-cleaners   \u003c\u003d50K  \n4          Prof-specialty   \u003c\u003d50K  \n5         Exec-managerial   \u003c\u003d50K  \n6           Other-service   \u003c\u003d50K  \n7         Exec-managerial    \u003e50K  \n8          Prof-specialty    \u003e50K  \n9         Exec-managerial    \u003e50K  \n10        Exec-managerial    \u003e50K  \n11         Prof-specialty    \u003e50K  \n12           Adm-clerical   \u003c\u003d50K  \n13                  Sales   \u003c\u003d50K  \n14           Craft-repair    \u003e50K  \n15       Transport-moving   \u003c\u003d50K  \n16        Farming-fishing   \u003c\u003d50K  \n17      Machine-op-inspct   \u003c\u003d50K  \n18                  Sales   \u003c\u003d50K  \n19        Exec-managerial    \u003e50K  \n20         Prof-specialty    \u003e50K  \n21          Other-service   \u003c\u003d50K  \n22        Farming-fishing   \u003c\u003d50K  \n23       Transport-moving   \u003c\u003d50K  \n24           Tech-support   \u003c\u003d50K  \n25           Tech-support    \u003e50K  \n26           Craft-repair   \u003c\u003d50K  \n27                      ?    \u003e50K  \n28        Exec-managerial   \u003c\u003d50K  \n29           Craft-repair   \u003c\u003d50K  \n...                   ...     ...  \n32531                   ?   \u003c\u003d50K  \n32532      Prof-specialty    \u003e50K  \n32533     Exec-managerial    \u003e50K  \n32534        Adm-clerical   \u003c\u003d50K  \n32535     Protective-serv   \u003c\u003d50K  \n32536     Exec-managerial    \u003e50K  \n32537        Craft-repair   \u003c\u003d50K  \n32538      Prof-specialty    \u003e50K  \n32539                   ?    \u003e50K  \n32540        Adm-clerical   \u003c\u003d50K  \n32541                   ?   \u003c\u003d50K  \n32542                   ?   \u003c\u003d50K  \n32543      Prof-specialty   \u003c\u003d50K  \n32544       Other-service   \u003c\u003d50K  \n32545        Adm-clerical    \u003e50K  \n32546        Tech-support   \u003c\u003d50K  \n32547   Machine-op-inspct   \u003c\u003d50K  \n32548      Prof-specialty   \u003c\u003d50K  \n32549        Adm-clerical   \u003c\u003d50K  \n32550        Craft-repair   \u003c\u003d50K  \n32551   Handlers-cleaners   \u003c\u003d50K  \n32552               Sales   \u003c\u003d50K  \n32553        Tech-support   \u003c\u003d50K  \n32554     Exec-managerial    \u003e50K  \n32555     Protective-serv   \u003c\u003d50K  \n32556        Tech-support   \u003c\u003d50K  \n32557   Machine-op-inspct    \u003e50K  \n32558        Adm-clerical   \u003c\u003d50K  \n32559        Adm-clerical   \u003c\u003d50K  \n32560     Exec-managerial    \u003e50K  \n\n[32561 rows x 7 columns]\n"
          ],
          "output_type": "stream"
        }
      ],
      "source": "import pandas as pd\ndata \u003d pd.read_csv(\u0027adult.csv\u0027,\n                   header \u003d None, index_col\u003dFalse,\n                   names\u003d[\u0027年龄\u0027, \u0027单位性质\u0027, \u0027权重\u0027, \u0027学历\u0027, \u0027受教育时长\u0027, \u0027婚姻状况\u0027, \u0027职业\u0027, \u0027家庭情况\u0027,\n                          \u0027种族\u0027, \u0027性别\u0027, \u0027资产所得\u0027, \u0027资产损失\u0027, \u0027周工作时长\u0027, \u0027原籍\u0027, \u0027收入\u0027])\ndata_lite \u003d data[[\u0027年龄\u0027, \u0027单位性质\u0027, \u0027学历\u0027, \u0027性别\u0027, \u0027周工作时长\u0027, \u0027职业\u0027, \u0027收入\u0027]]\nprint(data_lite)"
    },
    {
      "cell_type": "code",
      "execution_count": 7,
      "outputs": [
        {
          "name": "stdout",
          "text": [
            "样本原始特征:\n [\u0027年龄\u0027, \u0027单位性质\u0027, \u0027学历\u0027, \u0027性别\u0027, \u0027周工作时长\u0027, \u0027职业\u0027, \u0027收入\u0027] \n\n虚拟变量特征:\n [\u0027年龄\u0027, \u0027周工作时长\u0027, \u0027单位性质_ ?\u0027, \u0027单位性质_ Federal-gov\u0027, \u0027单位性质_ Local-gov\u0027, \u0027单位性质_ Never-worked\u0027, \u0027单位性质_ Private\u0027, \u0027单位性质_ Self-emp-inc\u0027, \u0027单位性质_ Self-emp-not-inc\u0027, \u0027单位性质_ State-gov\u0027, \u0027单位性质_ Without-pay\u0027, \u0027学历_ 10th\u0027, \u0027学历_ 11th\u0027, \u0027学历_ 12th\u0027, \u0027学历_ 1st-4th\u0027, \u0027学历_ 5th-6th\u0027, \u0027学历_ 7th-8th\u0027, \u0027学历_ 9th\u0027, \u0027学历_ Assoc-acdm\u0027, \u0027学历_ Assoc-voc\u0027, \u0027学历_ Bachelors\u0027, \u0027学历_ Doctorate\u0027, \u0027学历_ HS-grad\u0027, \u0027学历_ Masters\u0027, \u0027学历_ Preschool\u0027, \u0027学历_ Prof-school\u0027, \u0027学历_ Some-college\u0027, \u0027性别_ Female\u0027, \u0027性别_ Male\u0027, \u0027职业_ ?\u0027, \u0027职业_ Adm-clerical\u0027, \u0027职业_ Armed-Forces\u0027, \u0027职业_ Craft-repair\u0027, \u0027职业_ Exec-managerial\u0027, \u0027职业_ Farming-fishing\u0027, \u0027职业_ Handlers-cleaners\u0027, \u0027职业_ Machine-op-inspct\u0027, \u0027职业_ Other-service\u0027, \u0027职业_ Priv-house-serv\u0027, \u0027职业_ Prof-specialty\u0027, \u0027职业_ Protective-serv\u0027, \u0027职业_ Sales\u0027, \u0027职业_ Tech-support\u0027, \u0027职业_ Transport-moving\u0027, \u0027收入_ \u003c\u003d50K\u0027, \u0027收入_ \u003e50K\u0027] \n\n"
          ],
          "output_type": "stream"
        }
      ],
      "source": "data_dummies \u003d pd.get_dummies(data_lite)\nprint(\"样本原始特征:\\n\",list(data_lite.columns), \u0027\\n\u0027)\nprint(\"虚拟变量特征:\\n\", list(data_dummies.columns), \u0027\\n\u0027)\n",
      "metadata": {
        "pycharm": {
          "metadata": false,
          "name": "#%%\n",
          "is_executing": false
        }
      }
    },
    {
      "cell_type": "code",
      "execution_count": 8,
      "outputs": [
        {
          "data": {
            "text/plain": "   年龄  周工作时长  单位性质_ ?  单位性质_ Federal-gov  单位性质_ Local-gov  单位性质_ Never-worked  \\\n0  39     40        0                  0                0                   0   \n1  50     13        0                  0                0                   0   \n2  38     40        0                  0                0                   0   \n3  53     40        0                  0                0                   0   \n4  28     40        0                  0                0                   0   \n\n   单位性质_ Private  单位性质_ Self-emp-inc  单位性质_ Self-emp-not-inc  单位性质_ State-gov  \\\n0              0                   0                       0                1   \n1              0                   0                       1                0   \n2              1                   0                       0                0   \n3              1                   0                       0                0   \n4              1                   0                       0                0   \n\n   ...  职业_ Machine-op-inspct  职业_ Other-service  职业_ Priv-house-serv  \\\n0  ...                      0                  0                    0   \n1  ...                      0                  0                    0   \n2  ...                      0                  0                    0   \n3  ...                      0                  0                    0   \n4  ...                      0                  0                    0   \n\n   职业_ Prof-specialty  职业_ Protective-serv  职业_ Sales  职业_ Tech-support  \\\n0                   0                    0          0                 0   \n1                   0                    0          0                 0   \n2                   0                    0          0                 0   \n3                   0                    0          0                 0   \n4                   1                    0          0                 0   \n\n   职业_ Transport-moving  收入_ \u003c\u003d50K  收入_ \u003e50K  \n0                     0          1         0  \n1                     0          1         0  \n2                     0          1         0  \n3                     0          1         0  \n4                     0          1         0  \n\n[5 rows x 46 columns]",
            "text/html": "\u003cdiv\u003e\n\u003cstyle scoped\u003e\n    .dataframe tbody tr th:only-of-type {\n        vertical-align: middle;\n    }\n\n    .dataframe tbody tr th {\n        vertical-align: top;\n    }\n\n    .dataframe thead th {\n        text-align: right;\n    }\n\u003c/style\u003e\n\u003ctable border\u003d\"1\" class\u003d\"dataframe\"\u003e\n  \u003cthead\u003e\n    \u003ctr style\u003d\"text-align: right;\"\u003e\n      \u003cth\u003e\u003c/th\u003e\n      \u003cth\u003e年龄\u003c/th\u003e\n      \u003cth\u003e周工作时长\u003c/th\u003e\n      \u003cth\u003e单位性质_ ?\u003c/th\u003e\n      \u003cth\u003e单位性质_ Federal-gov\u003c/th\u003e\n      \u003cth\u003e单位性质_ Local-gov\u003c/th\u003e\n      \u003cth\u003e单位性质_ Never-worked\u003c/th\u003e\n      \u003cth\u003e单位性质_ Private\u003c/th\u003e\n      \u003cth\u003e单位性质_ Self-emp-inc\u003c/th\u003e\n      \u003cth\u003e单位性质_ Self-emp-not-inc\u003c/th\u003e\n      \u003cth\u003e单位性质_ State-gov\u003c/th\u003e\n      \u003cth\u003e...\u003c/th\u003e\n      \u003cth\u003e职业_ Machine-op-inspct\u003c/th\u003e\n      \u003cth\u003e职业_ Other-service\u003c/th\u003e\n      \u003cth\u003e职业_ Priv-house-serv\u003c/th\u003e\n      \u003cth\u003e职业_ Prof-specialty\u003c/th\u003e\n      \u003cth\u003e职业_ Protective-serv\u003c/th\u003e\n      \u003cth\u003e职业_ Sales\u003c/th\u003e\n      \u003cth\u003e职业_ Tech-support\u003c/th\u003e\n      \u003cth\u003e职业_ Transport-moving\u003c/th\u003e\n      \u003cth\u003e收入_ \u0026lt;\u003d50K\u003c/th\u003e\n      \u003cth\u003e收入_ \u0026gt;50K\u003c/th\u003e\n    \u003c/tr\u003e\n  \u003c/thead\u003e\n  \u003ctbody\u003e\n    \u003ctr\u003e\n      \u003cth\u003e0\u003c/th\u003e\n      \u003ctd\u003e39\u003c/td\u003e\n      \u003ctd\u003e40\u003c/td\u003e\n      \u003ctd\u003e0\u003c/td\u003e\n      \u003ctd\u003e0\u003c/td\u003e\n      \u003ctd\u003e0\u003c/td\u003e\n      \u003ctd\u003e0\u003c/td\u003e\n      \u003ctd\u003e0\u003c/td\u003e\n      \u003ctd\u003e0\u003c/td\u003e\n      \u003ctd\u003e0\u003c/td\u003e\n      \u003ctd\u003e1\u003c/td\u003e\n      \u003ctd\u003e...\u003c/td\u003e\n      \u003ctd\u003e0\u003c/td\u003e\n      \u003ctd\u003e0\u003c/td\u003e\n      \u003ctd\u003e0\u003c/td\u003e\n      \u003ctd\u003e0\u003c/td\u003e\n      \u003ctd\u003e0\u003c/td\u003e\n      \u003ctd\u003e0\u003c/td\u003e\n      \u003ctd\u003e0\u003c/td\u003e\n      \u003ctd\u003e0\u003c/td\u003e\n      \u003ctd\u003e1\u003c/td\u003e\n      \u003ctd\u003e0\u003c/td\u003e\n    \u003c/tr\u003e\n    \u003ctr\u003e\n      \u003cth\u003e1\u003c/th\u003e\n      \u003ctd\u003e50\u003c/td\u003e\n      \u003ctd\u003e13\u003c/td\u003e\n      \u003ctd\u003e0\u003c/td\u003e\n      \u003ctd\u003e0\u003c/td\u003e\n      \u003ctd\u003e0\u003c/td\u003e\n      \u003ctd\u003e0\u003c/td\u003e\n      \u003ctd\u003e0\u003c/td\u003e\n      \u003ctd\u003e0\u003c/td\u003e\n      \u003ctd\u003e1\u003c/td\u003e\n      \u003ctd\u003e0\u003c/td\u003e\n      \u003ctd\u003e...\u003c/td\u003e\n      \u003ctd\u003e0\u003c/td\u003e\n      \u003ctd\u003e0\u003c/td\u003e\n      \u003ctd\u003e0\u003c/td\u003e\n      \u003ctd\u003e0\u003c/td\u003e\n      \u003ctd\u003e0\u003c/td\u003e\n      \u003ctd\u003e0\u003c/td\u003e\n      \u003ctd\u003e0\u003c/td\u003e\n      \u003ctd\u003e0\u003c/td\u003e\n      \u003ctd\u003e1\u003c/td\u003e\n      \u003ctd\u003e0\u003c/td\u003e\n    \u003c/tr\u003e\n    \u003ctr\u003e\n      \u003cth\u003e2\u003c/th\u003e\n      \u003ctd\u003e38\u003c/td\u003e\n      \u003ctd\u003e40\u003c/td\u003e\n      \u003ctd\u003e0\u003c/td\u003e\n      \u003ctd\u003e0\u003c/td\u003e\n      \u003ctd\u003e0\u003c/td\u003e\n      \u003ctd\u003e0\u003c/td\u003e\n      \u003ctd\u003e1\u003c/td\u003e\n      \u003ctd\u003e0\u003c/td\u003e\n      \u003ctd\u003e0\u003c/td\u003e\n      \u003ctd\u003e0\u003c/td\u003e\n      \u003ctd\u003e...\u003c/td\u003e\n      \u003ctd\u003e0\u003c/td\u003e\n      \u003ctd\u003e0\u003c/td\u003e\n      \u003ctd\u003e0\u003c/td\u003e\n      \u003ctd\u003e0\u003c/td\u003e\n      \u003ctd\u003e0\u003c/td\u003e\n      \u003ctd\u003e0\u003c/td\u003e\n      \u003ctd\u003e0\u003c/td\u003e\n      \u003ctd\u003e0\u003c/td\u003e\n      \u003ctd\u003e1\u003c/td\u003e\n      \u003ctd\u003e0\u003c/td\u003e\n    \u003c/tr\u003e\n    \u003ctr\u003e\n      \u003cth\u003e3\u003c/th\u003e\n      \u003ctd\u003e53\u003c/td\u003e\n      \u003ctd\u003e40\u003c/td\u003e\n      \u003ctd\u003e0\u003c/td\u003e\n      \u003ctd\u003e0\u003c/td\u003e\n      \u003ctd\u003e0\u003c/td\u003e\n      \u003ctd\u003e0\u003c/td\u003e\n      \u003ctd\u003e1\u003c/td\u003e\n      \u003ctd\u003e0\u003c/td\u003e\n      \u003ctd\u003e0\u003c/td\u003e\n      \u003ctd\u003e0\u003c/td\u003e\n      \u003ctd\u003e...\u003c/td\u003e\n      \u003ctd\u003e0\u003c/td\u003e\n      \u003ctd\u003e0\u003c/td\u003e\n      \u003ctd\u003e0\u003c/td\u003e\n      \u003ctd\u003e0\u003c/td\u003e\n      \u003ctd\u003e0\u003c/td\u003e\n      \u003ctd\u003e0\u003c/td\u003e\n      \u003ctd\u003e0\u003c/td\u003e\n      \u003ctd\u003e0\u003c/td\u003e\n      \u003ctd\u003e1\u003c/td\u003e\n      \u003ctd\u003e0\u003c/td\u003e\n    \u003c/tr\u003e\n    \u003ctr\u003e\n      \u003cth\u003e4\u003c/th\u003e\n      \u003ctd\u003e28\u003c/td\u003e\n      \u003ctd\u003e40\u003c/td\u003e\n      \u003ctd\u003e0\u003c/td\u003e\n      \u003ctd\u003e0\u003c/td\u003e\n      \u003ctd\u003e0\u003c/td\u003e\n      \u003ctd\u003e0\u003c/td\u003e\n      \u003ctd\u003e1\u003c/td\u003e\n      \u003ctd\u003e0\u003c/td\u003e\n      \u003ctd\u003e0\u003c/td\u003e\n      \u003ctd\u003e0\u003c/td\u003e\n      \u003ctd\u003e...\u003c/td\u003e\n      \u003ctd\u003e0\u003c/td\u003e\n      \u003ctd\u003e0\u003c/td\u003e\n      \u003ctd\u003e0\u003c/td\u003e\n      \u003ctd\u003e1\u003c/td\u003e\n      \u003ctd\u003e0\u003c/td\u003e\n      \u003ctd\u003e0\u003c/td\u003e\n      \u003ctd\u003e0\u003c/td\u003e\n      \u003ctd\u003e0\u003c/td\u003e\n      \u003ctd\u003e1\u003c/td\u003e\n      \u003ctd\u003e0\u003c/td\u003e\n    \u003c/tr\u003e\n  \u003c/tbody\u003e\n\u003c/table\u003e\n\u003cp\u003e5 rows × 46 columns\u003c/p\u003e\n\u003c/div\u003e"
          },
          "metadata": {},
          "output_type": "execute_result",
          "execution_count": 8
        }
      ],
      "source": "data_dummies.head()",
      "metadata": {
        "pycharm": {
          "metadata": false,
          "name": "#%%\n",
          "is_executing": false
        }
      }
    },
    {
      "cell_type": "code",
      "execution_count": 14,
      "outputs": [
        {
          "name": "stdout",
          "text": [
            "特征形态:(32561, 44) 标准形态:(32561,)\n"
          ],
          "output_type": "stream"
        }
      ],
      "source": "features \u003d data_dummies.loc[:,\u0027年龄\u0027:\u0027职业_ Transport-moving\u0027]\nX \u003d features.values\ny \u003d data_dummies[\u0027收入_ \u003e50K\u0027].values\nprint(\u0027特征形态:{} 标准形态:{}\u0027.format(X.shape, y.shape))",
      "metadata": {
        "pycharm": {
          "metadata": false,
          "name": "#%%\n",
          "is_executing": false
        }
      }
    },
    {
      "cell_type": "code",
      "execution_count": 16,
      "outputs": [
        {
          "name": "stdout",
          "text": [
            "模型得分:0.80\n"
          ],
          "output_type": "stream"
        }
      ],
      "source": "from sklearn.model_selection import train_test_split\nfrom sklearn import tree\nX_train, X_test, y_train, y_test \u003d train_test_split(X, y, random_state\u003d0)\ngo_dating_tree \u003d tree.DecisionTreeClassifier(max_depth\u003d5)\ngo_dating_tree.fit(X_train, y_train)\nprint(\u0027模型得分:{:.2f}\u0027.format(go_dating_tree.score(X_test,y_test)))",
      "metadata": {
        "pycharm": {
          "metadata": false,
          "name": "#%%\n",
          "is_executing": false
        }
      }
    },
    {
      "cell_type": "code",
      "execution_count": 22,
      "outputs": [
        {
          "name": "stdout",
          "text": [
            "不用去了, 不满足你的需求！\n"
          ],
          "output_type": "stream"
        }
      ],
      "source": "go \u003d go_dating_tree.score(X_test,y_test)\nMr_z \u003d [[37, 40, 0, 0, 0, 0, 0, 0, 1, 0, 0, 0, 0, 0, 0, 0, 0, 0, 0, 0, 0, 0, 0, 1,\n         0, 0, 0, 0, 1, 0, 1, 0, 0, 0, 0, 0, 0, 0, 0, 0, 0, 0, 0, 0]]\n\nif go \u003e\u003d 0.75:\n    dating_dec \u003d go_dating_tree.predict(Mr_z)\n    if dating_dec \u003d\u003d 1:\n        print(\"大胆去追求真爱吧， 这哥们月薪过五万了！\")\n    else:\n        print(\"不用去了, 不满足你的需求！\")\nelse:\n    print(\"模型不给力， 不能准确预测\")\n",
      "metadata": {
        "pycharm": {
          "metadata": false,
          "name": "#%%\n",
          "is_executing": false
        }
      }
    },
    {
      "cell_type": "code",
      "execution_count": null,
      "outputs": [],
      "source": "",
      "metadata": {
        "pycharm": {
          "metadata": false,
          "name": "#%%\n"
        }
      }
    }
  ],
  "metadata": {
    "language_info": {
      "codemirror_mode": {
        "name": "ipython",
        "version": 2
      },
      "file_extension": ".py",
      "mimetype": "text/x-python",
      "name": "python",
      "nbconvert_exporter": "python",
      "pygments_lexer": "ipython2",
      "version": "2.7.6"
    },
    "kernelspec": {
      "name": "python3",
      "language": "python",
      "display_name": "Python 3"
    }
  },
  "nbformat": 4,
  "nbformat_minor": 0
}