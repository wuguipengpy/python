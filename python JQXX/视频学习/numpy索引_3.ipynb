{
 "cells": [
  {
   "cell_type": "code",
   "execution_count": 3,
   "metadata": {
    "collapsed": true
   },
   "outputs": [],
   "source": [
    "import numpy as np"
   ]
  },
  {
   "cell_type": "code",
   "execution_count": 4,
   "metadata": {},
   "outputs": [
    {
     "name": "stdout",
     "output_type": "stream",
     "text": [
      "[1 2 3 6]\n",
      "1\n",
      "[[2 3 4]\n",
      " [5 6 7]]\n",
      "4\n",
      "[[2 3 4]\n",
      " [5 6 7]]\n",
      "[2 3 4]\n"
     ]
    }
   ],
   "source": [
    "arr1 = np.array([1, 2, 3, 6])\n",
    "arr2 = np.arange(2, 8).reshape(2, 3)\n",
    "print(arr1)\n",
    "print(arr1[0])  # 索引从0开始计数\n",
    "print(arr2)\n",
    "print(arr2[0][2]) # arr[⾏][列]，也可以⽤arr[⾏,列]\n",
    "print(arr2[0:])  # ⽤:来代表所有元素的意思\n",
    "print(arr2[0, 0:3])  # 表示输出第0⾏，从第0列到第2列所有元素"
   ]
  },
  {
   "cell_type": "code",
   "execution_count": 5,
   "metadata": {},
   "outputs": [
    {
     "name": "stdout",
     "output_type": "stream",
     "text": [
      "[2 3 4]\n",
      "[5 6 7]\n"
     ]
    }
   ],
   "source": [
    "# 通过for循环每次输出矩阵的⼀⾏\n",
    "for row in arr2:\n",
    "    print(row)"
   ]
  },
  {
   "cell_type": "code",
   "execution_count": 8,
   "metadata": {},
   "outputs": [
    {
     "name": "stdout",
     "output_type": "stream",
     "text": [
      "[[2 5]\n",
      " [3 6]\n",
      " [4 7]]\n",
      "[2 5]\n",
      "[3 6]\n",
      "[4 7]\n"
     ]
    }
   ],
   "source": [
    "arr2_T = arr2.T  #如果要每次输出矩阵的⼀列，就先将矩阵转置\n",
    "print(arr2_T)\n",
    "for row in arr2_T:\n",
    "    print(row)"
   ]
  },
  {
   "cell_type": "code",
   "execution_count": 11,
   "metadata": {},
   "outputs": [
    {
     "name": "stdout",
     "output_type": "stream",
     "text": [
      "[2 3 4 5 6 7]\n",
      "2\n",
      "3\n",
      "4\n",
      "5\n",
      "6\n",
      "7\n"
     ]
    }
   ],
   "source": [
    "arr2_flat = arr2.flatten() # 将矩阵压成⼀⾏逐个输出元素\n",
    "print(arr2_flat)\n",
    "for i in arr2.flat:\n",
    "    print(i)"
   ]
  },
  {
   "cell_type": "code",
   "execution_count": null,
   "metadata": {
    "collapsed": true
   },
   "outputs": [],
   "source": []
  }
 ],
 "metadata": {
  "kernelspec": {
   "display_name": "Python 3",
   "language": "python",
   "name": "python3"
  },
  "language_info": {
   "codemirror_mode": {
    "name": "ipython",
    "version": 3
   },
   "file_extension": ".py",
   "mimetype": "text/x-python",
   "name": "python",
   "nbconvert_exporter": "python",
   "pygments_lexer": "ipython3",
   "version": "3.6.1"
  }
 },
 "nbformat": 4,
 "nbformat_minor": 2
}
