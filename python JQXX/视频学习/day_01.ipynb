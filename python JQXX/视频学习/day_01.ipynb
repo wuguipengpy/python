{
 "cells": [
  {
   "cell_type": "code",
   "execution_count": 12,
   "metadata": {},
   "outputs": [
    {
     "name": "stdout",
     "output_type": "stream",
     "text": [
      "data_new：\n",
      " [[ 0.31502084  0.          0.20710727  0.          0.          0.\n",
      "   0.41421455  0.          0.          0.          0.          0.\n",
      "   0.20710727  0.          0.          0.          0.          0.\n",
      "   0.20710727  0.20710727  0.          0.41421455  0.          0.20710727\n",
      "   0.          0.          0.          0.41421455  0.20710727  0.          0.\n",
      "   0.          0.20710727  0.20710727  0.          0.          0.20710727\n",
      "   0.        ]\n",
      " [ 0.          0.          0.          0.2410822   0.          0.          0.\n",
      "   0.2410822   0.2410822   0.2410822   0.          0.          0.          0.\n",
      "   0.          0.          0.2410822   0.55004769  0.          0.          0.\n",
      "   0.          0.2410822   0.          0.          0.          0.          0.\n",
      "   0.          0.48216441  0.          0.          0.          0.          0.\n",
      "   0.2410822   0.          0.2410822 ]\n",
      " [ 0.13012938  0.17110449  0.          0.          0.68441798  0.34220899\n",
      "   0.          0.          0.          0.          0.17110449  0.17110449\n",
      "   0.          0.17110449  0.17110449  0.17110449  0.          0.13012938\n",
      "   0.          0.          0.17110449  0.          0.          0.\n",
      "   0.17110449  0.17110449  0.17110449  0.          0.          0.\n",
      "   0.17110449  0.17110449  0.          0.          0.17110449  0.          0.\n",
      "   0.        ]]\n",
      "特征名字:\n",
      " ['一种', '不会', '不要', '之前', '了解', '事物', '今天', '光是在', '几百万年', '发出', '取决于', '只用', '后天', '含义', '如何', '如果', '宇宙', '我们', '所以', '放弃', '方式', '明天', '星系', '晚上', '某事', '某物', '正真', '残酷', '每个', '看到', '真正', '秘密', '绝大部分', '美好', '联系', '过去', '还是', '这样']\n"
     ]
    }
   ],
   "source": [
    "from sklearn.datasets import load_iris\n",
    "from sklearn.model_selection import train_test_split\n",
    "from sklearn.feature_extraction import DictVectorizer\n",
    "from sklearn.feature_extraction.text import CountVectorizer, TfidfVectorizer\n",
    "import jieba\n",
    "\n",
    "\n",
    "def datasets_demo():\n",
    "    \"\"\"\n",
    "    sklearn数据使用\n",
    "    ；return；\n",
    "    \"\"\"\n",
    "    iris = load_iris()\n",
    "    print(\"鸢尾花数据集\\n\", iris)\n",
    "    print(\"查看数据集描述\\n\", iris[\"DESCR\"])\n",
    "    print(\"查看特征值的名字\\n\", iris.feature_names)\n",
    "    print(\"查看特征值\\n\", iris.data, iris.data.shape)\n",
    "    \n",
    "    #数据集划分\n",
    "    X_train, X_test, y_train, y_test = train_test_split(iris.data, iris.target, test_size = 0.2, random_state = 22)\n",
    "    print(\"训练集的特征值\",  X_train, X_train.shape)\n",
    "    print(\"测试集的特征值\",  X_test, X_test.shape)\n",
    "    print(\"训练集的目标值\", y_train)\n",
    "    print(\"测试集的目标值\", y_test,)\n",
    "    \n",
    "    return None\n",
    "\n",
    "\n",
    "def dict_demo():\n",
    "    \"\"\"\n",
    "    字典特征提取\n",
    "    \"\"\"\n",
    "    data = [{'city': '北京', 'pemperature':100}, {'city': '上海', 'temperature':60}, {'city': '深圳', 'temperature':30}]\n",
    "    #1，实例化一个转换器\n",
    "    transfer = DictVectorizer(sparse = False)\n",
    "    \n",
    "    #2， 调用fit_transform()\n",
    "    data_new = transfer.fit_transform(data)\n",
    "    print(\"data_new\\n\", data_new)\n",
    "    print(\"特征名字\\n\", transfer.get_feature_names())\n",
    "    \n",
    "    return None\n",
    "\n",
    "def cut_word(text):\n",
    "    return \" \".join(list(jieba.cut(text)))\n",
    "\n",
    "\n",
    "def count_chinese_demo():\n",
    "    \"\"\"\n",
    "    文本特征抽取， 自动分词\n",
    "    \"\"\"\n",
    "    #将文本进行分词\n",
    "    data = [\"一种还是一种今天很残酷，明天更残酷，后天更美好，但绝大部分是死在明天晚上， 所以每个人不要放弃今天。\",\n",
    "           \"我们看到的从很远星系来的光是在几百万年之前发出的，这样当我们看到宇宙时，我们是在看它的过去\",\n",
    "           \"如果只用一种方式了解某事某物，你就不会正真了解它，了解事物真正含义的秘密取决于如何将其与我们所了解的事物相联系。\"]\n",
    "    \n",
    "    data_new = []\n",
    "    for sent in data:\n",
    "        data_new.append(cut_word(sent))\n",
    "        \n",
    "    #实例化一个转换器\n",
    "    transfer = CountVectorizer()\n",
    "    data_final = transfer.fit_transform(data_new)\n",
    "    print(\"data_new：\\n\", data_final.toarray())\n",
    "    print(\"特征名字:\\n\", transfer.get_feature_names())\n",
    "\n",
    "\n",
    "def tfidf_demo():\n",
    "    \"\"\"\n",
    "    文本特征抽取， 自动分词\n",
    "    \"\"\"\n",
    "    #将文本进行分词\n",
    "    data = [\"一种还是一种今天很残酷，明天更残酷，后天更美好，但绝大部分是死在明天晚上， 所以每个人不要放弃今天。\",\n",
    "           \"我们看到的从很远星系来的光是在几百万年之前发出的，这样当我们看到宇宙时，我们是在看它的过去\",\n",
    "           \"如果只用一种方式了解某事某物，你就不会正真了解它，了解事物真正含义的秘密取决于如何将其与我们所了解的事物相联系。\"]\n",
    "    \n",
    "    data_new = []\n",
    "    for sent in data:\n",
    "        data_new.append(cut_word(sent))\n",
    "        \n",
    "    #实例化一个转换器 重要程度\n",
    "    \n",
    "    transfer = TfidfVectorizer()\n",
    "    data_final = transfer.fit_transform(data_new)\n",
    "    print(\"data_new：\\n\", data_final.toarray())\n",
    "    print(\"特征名字:\\n\", transfer.get_feature_names())\n",
    "    \n",
    "if __name__ == \"__main__\":\n",
    "    #代码1\n",
    "    #datasets_demo()\n",
    "    #代码2\n",
    "    #dict_demo()\n",
    "    #代码3\n",
    "    #count_chinese_demo()\n",
    "    tfidf_demo()"
   ]
  },
  {
   "cell_type": "code",
   "execution_count": 13,
   "metadata": {},
   "outputs": [
    {
     "ename": "ModuleNotFoundError",
     "evalue": "No module named 'thread'",
     "output_type": "error",
     "traceback": [
      "\u001b[1;31m---------------------------------------------------------------------------\u001b[0m",
      "\u001b[1;31mModuleNotFoundError\u001b[0m                       Traceback (most recent call last)",
      "\u001b[1;32m<ipython-input-13-6fa68a186795>\u001b[0m in \u001b[0;36m<module>\u001b[1;34m()\u001b[0m\n\u001b[1;32m----> 1\u001b[1;33m \u001b[1;32mimport\u001b[0m \u001b[0mthread\u001b[0m\u001b[1;33m\u001b[0m\u001b[0m\n\u001b[0m",
      "\u001b[1;31mModuleNotFoundError\u001b[0m: No module named 'thread'"
     ]
    }
   ],
   "source": [
    "import thread"
   ]
  },
  {
   "cell_type": "code",
   "execution_count": null,
   "metadata": {
    "collapsed": true
   },
   "outputs": [],
   "source": []
  }
 ],
 "metadata": {
  "kernelspec": {
   "display_name": "Python 3",
   "language": "python",
   "name": "python3"
  },
  "language_info": {
   "codemirror_mode": {
    "name": "ipython",
    "version": 3
   },
   "file_extension": ".py",
   "mimetype": "text/x-python",
   "name": "python",
   "nbconvert_exporter": "python",
   "pygments_lexer": "ipython3",
   "version": "3.6.1"
  }
 },
 "nbformat": 4,
 "nbformat_minor": 2
}
