{
  "cells": [
    {
      "cell_type": "code",
      "execution_count": 4,
      "metadata": {
        "collapsed": true,
        "pycharm": {}
      },
      "outputs": [],
      "source": [
        "from scipy import stats\n",
        "from scipy.stats import norm\n",
        "from __future__ import print_function"
      ]
    },
    {
      "cell_type": "code",
      "execution_count": 5,
      "metadata": {
        "pycharm": {}
      },
      "outputs": [
        {
          "data": {
            "text/plain": [
              "[\u0027__class__\u0027,\n",
              " \u0027__delattr__\u0027,\n",
              " \u0027__dict__\u0027,\n",
              " \u0027__dir__\u0027,\n",
              " \u0027__doc__\u0027,\n",
              " \u0027__eq__\u0027,\n",
              " \u0027__format__\u0027,\n",
              " \u0027__ge__\u0027,\n",
              " \u0027__getattribute__\u0027,\n",
              " \u0027__gt__\u0027,\n",
              " \u0027__hash__\u0027,\n",
              " \u0027__init__\u0027,\n",
              " \u0027__init_subclass__\u0027,\n",
              " \u0027__le__\u0027,\n",
              " \u0027__lt__\u0027,\n",
              " \u0027__module__\u0027,\n",
              " \u0027__ne__\u0027,\n",
              " \u0027__new__\u0027,\n",
              " \u0027__reduce__\u0027,\n",
              " \u0027__reduce_ex__\u0027,\n",
              " \u0027__repr__\u0027,\n",
              " \u0027__setattr__\u0027,\n",
              " \u0027__sizeof__\u0027,\n",
              " \u0027__str__\u0027,\n",
              " \u0027__subclasshook__\u0027,\n",
              " \u0027__weakref__\u0027,\n",
              " \u0027a\u0027,\n",
              " \u0027args\u0027,\n",
              " \u0027b\u0027,\n",
              " \u0027cdf\u0027,\n",
              " \u0027dist\u0027,\n",
              " \u0027entropy\u0027,\n",
              " \u0027expect\u0027,\n",
              " \u0027interval\u0027,\n",
              " \u0027isf\u0027,\n",
              " \u0027kwds\u0027,\n",
              " \u0027logcdf\u0027,\n",
              " \u0027logpdf\u0027,\n",
              " \u0027logpmf\u0027,\n",
              " \u0027logsf\u0027,\n",
              " \u0027mean\u0027,\n",
              " \u0027median\u0027,\n",
              " \u0027moment\u0027,\n",
              " \u0027pdf\u0027,\n",
              " \u0027pmf\u0027,\n",
              " \u0027ppf\u0027,\n",
              " \u0027random_state\u0027,\n",
              " \u0027rvs\u0027,\n",
              " \u0027sf\u0027,\n",
              " \u0027stats\u0027,\n",
              " \u0027std\u0027,\n",
              " \u0027var\u0027]"
            ]
          },
          "execution_count": 5,
          "metadata": {},
          "output_type": "execute_result"
        }
      ],
      "source": [
        "rv \u003d norm()\n",
        "dir(rv)"
      ]
    },
    {
      "cell_type": "code",
      "execution_count": 8,
      "metadata": {
        "pycharm": {}
      },
      "outputs": [
        {
          "name": "stdout",
          "output_type": "stream",
          "text": [
            "number of continuous distributions: 95\n",
            "number of discrete distributions:   13\n"
          ]
        }
      ],
      "source": [
        "dist_continu \u003d [d for d in dir(stats) if\n",
        "               isinstance(getattr(stats, d), stats.rv_continuous)]\n",
        "dist_discrete \u003d [d for d in dir(stats) if\n",
        "               isinstance(getattr(stats, d), stats.rv_discrete)]\n",
        "print(\u0027number of continuous distributions: %d\u0027 % len(dist_continu))\n",
        "print(\u0027number of discrete distributions:   %d\u0027 % len(dist_discrete))"
      ]
    },
    {
      "cell_type": "code",
      "execution_count": 9,
      "metadata": {
        "pycharm": {}
      },
      "outputs": [
        {
          "data": {
            "text/plain": [
              "0.5"
            ]
          },
          "execution_count": 9,
          "metadata": {},
          "output_type": "execute_result"
        }
      ],
      "source": [
        "norm.cdf(0)"
      ]
    },
    {
      "cell_type": "code",
      "execution_count": 10,
      "metadata": {
        "pycharm": {}
      },
      "outputs": [
        {
          "data": {
            "text/plain": [
              "array([ 0.15865525,  0.5       ,  0.84134475])"
            ]
          },
          "execution_count": 10,
          "metadata": {},
          "output_type": "execute_result"
        }
      ],
      "source": [
        "norm.cdf([-1.,0, 1 ])"
      ]
    },
    {
      "cell_type": "code",
      "execution_count": 12,
      "metadata": {
        "pycharm": {}
      },
      "outputs": [
        {
          "data": {
            "text/plain": [
              "array([ 0.15865525,  0.5       ,  0.84134475])"
            ]
          },
          "execution_count": 12,
          "metadata": {},
          "output_type": "execute_result"
        }
      ],
      "source": [
        "import numpy as np\n",
        "norm.cdf(np.array([-1., 0, 1]))"
      ]
    },
    {
      "cell_type": "code",
      "execution_count": 0,
      "metadata": {
        "pycharm": {
          "is_executing": false
        }
      },
      "outputs": [],
      "source": ""
    },
    {
      "cell_type": "code",
      "execution_count": null,
      "outputs": [],
      "source": "",
      "metadata": {
        "pycharm": {
          "metadata": false,
          "name": "#%%\n"
        }
      }
    },
    {
      "cell_type": "code",
      "execution_count": null,
      "outputs": [],
      "source": "\n",
      "metadata": {
        "pycharm": {
          "metadata": false,
          "name": "#%%\n"
        }
      }
    }
  ],
  "metadata": {
    "kernelspec": {
      "display_name": "Python 3",
      "language": "python",
      "name": "python3"
    },
    "language_info": {
      "codemirror_mode": {
        "name": "ipython",
        "version": 3
      },
      "file_extension": ".py",
      "mimetype": "text/x-python",
      "name": "python",
      "nbconvert_exporter": "python",
      "pygments_lexer": "ipython3",
      "version": "3.6.1"
    }
  },
  "nbformat": 4,
  "nbformat_minor": 2
}