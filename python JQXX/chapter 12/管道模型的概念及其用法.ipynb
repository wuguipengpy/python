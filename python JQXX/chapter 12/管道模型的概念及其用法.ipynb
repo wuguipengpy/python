{
  "cells": [
    {
      "cell_type": "code",
      "execution_count": 20,
      "metadata": {
        "collapsed": true,
        "pycharm": {
          "is_executing": false
        }
      },
      "outputs": [
        {
          "name": "stdout",
          "text": [
            "训练数据集形态: (150, 2) \n测试数据集形态: (50, 2)\n"
          ],
          "output_type": "stream"
        }
      ],
      "source": "from sklearn.datasets import make_blobs\nfrom sklearn.model_selection import train_test_split\nfrom sklearn.preprocessing import StandardScaler\nfrom sklearn.neural_network import MLPClassifier\nimport matplotlib.pyplot as plt\n\nX, y \u003d make_blobs(n_samples\u003d200, centers\u003d2, cluster_std\u003d5)\nX_train, X_test, y_train, y_test \u003d train_test_split(X, y, random_state\u003d38)\n\nscaler \u003d StandardScaler().fit(X_train)\n\nX_train_scaled \u003d scaler.transform(X_train)\nX_test_scaled \u003d scaler.transform(X_test)\n\nprint(\u0027训练数据集形态:\u0027, X_train_scaled.shape,\n      \u0027\\n测试数据集形态:\u0027, X_test_scaled.shape)"
    },
    {
      "cell_type": "code",
      "execution_count": 21,
      "outputs": [
        {
          "data": {
            "text/plain": "\u003cFigure size 432x288 with 1 Axes\u003e",
            "image/png": "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\u003d\n"
          },
          "metadata": {
            "needs_background": "light"
          },
          "output_type": "display_data"
        }
      ],
      "source": "plt.scatter(X_train[:, 0], X_train[:, 1])\nplt.scatter(X_train_scaled[:, 0], X_train_scaled[:, 1], marker\u003d\u0027^\u0027, edgecolors\u003d\u0027k\u0027)\n\nplt.title(\u0027training set \u0026 saxled training set\u0027)\nplt.show()\n",
      "metadata": {
        "pycharm": {
          "metadata": false,
          "name": "#%%\n",
          "is_executing": false
        }
      }
    },
    {
      "cell_type": "code",
      "execution_count": 22,
      "outputs": [
        {
          "name": "stdout",
          "text": [
            "模型最佳得分:0.77\n模型最佳参数:{\u0027alpha\u0027: 0.0001, \u0027hidden_layer_sizes\u0027: (50,)}\n"
          ],
          "output_type": "stream"
        }
      ],
      "source": "from sklearn.model_selection import GridSearchCV\nparams \u003d {\u0027hidden_layer_sizes\u0027:[(50,), (100,), (100, 100)],\n          \u0027alpha\u0027:[0.0001, 0.001, 0.01, 0.1]}\n\ngrid \u003d GridSearchCV(MLPClassifier(max_iter\u003d1600, random_state\u003d38), param_grid\u003dparams, cv \u003d 3)\n\ngrid.fit(X_train_scaled, y_train)\n\nprint(\u0027模型最佳得分:{:.2f}\u0027.format(grid.best_score_))\nprint(\u0027模型最佳参数:{}\u0027.format(grid.best_params_))",
      "metadata": {
        "pycharm": {
          "metadata": false,
          "name": "#%%\n",
          "is_executing": false
        }
      }
    },
    {
      "cell_type": "code",
      "execution_count": 23,
      "outputs": [
        {
          "name": "stdout",
          "text": [
            "测试集得分:0.84\n"
          ],
          "output_type": "stream"
        }
      ],
      "source": "\nprint(\u0027测试集得分:{:.2f}\u0027.format(grid.score(X_test_scaled, y_test)))",
      "metadata": {
        "pycharm": {
          "metadata": false,
          "name": "#%%\n",
          "is_executing": false
        }
      }
    },
    {
      "cell_type": "code",
      "execution_count": 24,
      "outputs": [
        {
          "name": "stdout",
          "text": [
            "使用管道的MLP模型评分:0.84\n"
          ],
          "output_type": "stream"
        },
        {
          "name": "stderr",
          "text": [
            "D:\\RJAZ\\Anaconda3\\lib\\site-packages\\sklearn\\neural_network\\multilayer_perceptron.py:562: ConvergenceWarning: Stochastic Optimizer: Maximum iterations (200) reached and the optimization hasn\u0027t converged yet.\n  % self.max_iter, ConvergenceWarning)\n"
          ],
          "output_type": "stream"
        }
      ],
      "source": "from sklearn.pipeline import Pipeline\npipeline \u003d Pipeline([(\u0027sealer\u0027, StandardScaler()), (\u0027mlp\u0027, MLPClassifier())])\n\npipeline.fit(X_train, y_train)\nprint(\u0027使用管道的MLP模型评分:{:.2f}\u0027.format(pipeline.score(X_test, y_test)))\n",
      "metadata": {
        "pycharm": {
          "metadata": false,
          "name": "#%%\n",
          "is_executing": false
        }
      }
    },
    {
      "cell_type": "code",
      "execution_count": 25,
      "outputs": [
        {
          "name": "stderr",
          "text": [
            "D:\\RJAZ\\Anaconda3\\lib\\site-packages\\sklearn\\neural_network\\multilayer_perceptron.py:562: ConvergenceWarning: Stochastic Optimizer: Maximum iterations (200) reached and the optimization hasn\u0027t converged yet.\n  % self.max_iter, ConvergenceWarning)\n",
            "D:\\RJAZ\\Anaconda3\\lib\\site-packages\\sklearn\\neural_network\\multilayer_perceptron.py:562: ConvergenceWarning: Stochastic Optimizer: Maximum iterations (200) reached and the optimization hasn\u0027t converged yet.\n  % self.max_iter, ConvergenceWarning)\nD:\\RJAZ\\Anaconda3\\lib\\site-packages\\sklearn\\neural_network\\multilayer_perceptron.py:562: ConvergenceWarning: Stochastic Optimizer: Maximum iterations (200) reached and the optimization hasn\u0027t converged yet.\n  % self.max_iter, ConvergenceWarning)\n",
            "D:\\RJAZ\\Anaconda3\\lib\\site-packages\\sklearn\\neural_network\\multilayer_perceptron.py:562: ConvergenceWarning: Stochastic Optimizer: Maximum iterations (200) reached and the optimization hasn\u0027t converged yet.\n  % self.max_iter, ConvergenceWarning)\nD:\\RJAZ\\Anaconda3\\lib\\site-packages\\sklearn\\neural_network\\multilayer_perceptron.py:562: ConvergenceWarning: Stochastic Optimizer: Maximum iterations (200) reached and the optimization hasn\u0027t converged yet.\n  % self.max_iter, ConvergenceWarning)\nD:\\RJAZ\\Anaconda3\\lib\\site-packages\\sklearn\\neural_network\\multilayer_perceptron.py:562: ConvergenceWarning: Stochastic Optimizer: Maximum iterations (200) reached and the optimization hasn\u0027t converged yet.\n  % self.max_iter, ConvergenceWarning)\n",
            "D:\\RJAZ\\Anaconda3\\lib\\site-packages\\sklearn\\neural_network\\multilayer_perceptron.py:562: ConvergenceWarning: Stochastic Optimizer: Maximum iterations (200) reached and the optimization hasn\u0027t converged yet.\n  % self.max_iter, ConvergenceWarning)\nD:\\RJAZ\\Anaconda3\\lib\\site-packages\\sklearn\\neural_network\\multilayer_perceptron.py:562: ConvergenceWarning: Stochastic Optimizer: Maximum iterations (200) reached and the optimization hasn\u0027t converged yet.\n  % self.max_iter, ConvergenceWarning)\n",
            "D:\\RJAZ\\Anaconda3\\lib\\site-packages\\sklearn\\neural_network\\multilayer_perceptron.py:562: ConvergenceWarning: Stochastic Optimizer: Maximum iterations (200) reached and the optimization hasn\u0027t converged yet.\n  % self.max_iter, ConvergenceWarning)\nD:\\RJAZ\\Anaconda3\\lib\\site-packages\\sklearn\\neural_network\\multilayer_perceptron.py:562: ConvergenceWarning: Stochastic Optimizer: Maximum iterations (200) reached and the optimization hasn\u0027t converged yet.\n  % self.max_iter, ConvergenceWarning)\nD:\\RJAZ\\Anaconda3\\lib\\site-packages\\sklearn\\neural_network\\multilayer_perceptron.py:562: ConvergenceWarning: Stochastic Optimizer: Maximum iterations (200) reached and the optimization hasn\u0027t converged yet.\n  % self.max_iter, ConvergenceWarning)\n",
            "D:\\RJAZ\\Anaconda3\\lib\\site-packages\\sklearn\\neural_network\\multilayer_perceptron.py:562: ConvergenceWarning: Stochastic Optimizer: Maximum iterations (200) reached and the optimization hasn\u0027t converged yet.\n  % self.max_iter, ConvergenceWarning)\nD:\\RJAZ\\Anaconda3\\lib\\site-packages\\sklearn\\neural_network\\multilayer_perceptron.py:562: ConvergenceWarning: Stochastic Optimizer: Maximum iterations (200) reached and the optimization hasn\u0027t converged yet.\n  % self.max_iter, ConvergenceWarning)\n",
            "D:\\RJAZ\\Anaconda3\\lib\\site-packages\\sklearn\\neural_network\\multilayer_perceptron.py:562: ConvergenceWarning: Stochastic Optimizer: Maximum iterations (200) reached and the optimization hasn\u0027t converged yet.\n  % self.max_iter, ConvergenceWarning)\n",
            "D:\\RJAZ\\Anaconda3\\lib\\site-packages\\sklearn\\neural_network\\multilayer_perceptron.py:562: ConvergenceWarning: Stochastic Optimizer: Maximum iterations (200) reached and the optimization hasn\u0027t converged yet.\n  % self.max_iter, ConvergenceWarning)\n",
            "D:\\RJAZ\\Anaconda3\\lib\\site-packages\\sklearn\\neural_network\\multilayer_perceptron.py:562: ConvergenceWarning: Stochastic Optimizer: Maximum iterations (200) reached and the optimization hasn\u0027t converged yet.\n  % self.max_iter, ConvergenceWarning)\n",
            "D:\\RJAZ\\Anaconda3\\lib\\site-packages\\sklearn\\neural_network\\multilayer_perceptron.py:562: ConvergenceWarning: Stochastic Optimizer: Maximum iterations (200) reached and the optimization hasn\u0027t converged yet.\n  % self.max_iter, ConvergenceWarning)\nD:\\RJAZ\\Anaconda3\\lib\\site-packages\\sklearn\\neural_network\\multilayer_perceptron.py:562: ConvergenceWarning: Stochastic Optimizer: Maximum iterations (200) reached and the optimization hasn\u0027t converged yet.\n  % self.max_iter, ConvergenceWarning)\n",
            "D:\\RJAZ\\Anaconda3\\lib\\site-packages\\sklearn\\neural_network\\multilayer_perceptron.py:562: ConvergenceWarning: Stochastic Optimizer: Maximum iterations (200) reached and the optimization hasn\u0027t converged yet.\n  % self.max_iter, ConvergenceWarning)\nD:\\RJAZ\\Anaconda3\\lib\\site-packages\\sklearn\\neural_network\\multilayer_perceptron.py:562: ConvergenceWarning: Stochastic Optimizer: Maximum iterations (200) reached and the optimization hasn\u0027t converged yet.\n  % self.max_iter, ConvergenceWarning)\nD:\\RJAZ\\Anaconda3\\lib\\site-packages\\sklearn\\neural_network\\multilayer_perceptron.py:562: ConvergenceWarning: Stochastic Optimizer: Maximum iterations (200) reached and the optimization hasn\u0027t converged yet.\n  % self.max_iter, ConvergenceWarning)\n",
            "D:\\RJAZ\\Anaconda3\\lib\\site-packages\\sklearn\\neural_network\\multilayer_perceptron.py:562: ConvergenceWarning: Stochastic Optimizer: Maximum iterations (200) reached and the optimization hasn\u0027t converged yet.\n  % self.max_iter, ConvergenceWarning)\nD:\\RJAZ\\Anaconda3\\lib\\site-packages\\sklearn\\neural_network\\multilayer_perceptron.py:562: ConvergenceWarning: Stochastic Optimizer: Maximum iterations (200) reached and the optimization hasn\u0027t converged yet.\n  % self.max_iter, ConvergenceWarning)\n",
            "D:\\RJAZ\\Anaconda3\\lib\\site-packages\\sklearn\\neural_network\\multilayer_perceptron.py:562: ConvergenceWarning: Stochastic Optimizer: Maximum iterations (200) reached and the optimization hasn\u0027t converged yet.\n  % self.max_iter, ConvergenceWarning)\n",
            "D:\\RJAZ\\Anaconda3\\lib\\site-packages\\sklearn\\neural_network\\multilayer_perceptron.py:562: ConvergenceWarning: Stochastic Optimizer: Maximum iterations (200) reached and the optimization hasn\u0027t converged yet.\n  % self.max_iter, ConvergenceWarning)\nD:\\RJAZ\\Anaconda3\\lib\\site-packages\\sklearn\\neural_network\\multilayer_perceptron.py:562: ConvergenceWarning: Stochastic Optimizer: Maximum iterations (200) reached and the optimization hasn\u0027t converged yet.\n  % self.max_iter, ConvergenceWarning)\n",
            "D:\\RJAZ\\Anaconda3\\lib\\site-packages\\sklearn\\neural_network\\multilayer_perceptron.py:562: ConvergenceWarning: Stochastic Optimizer: Maximum iterations (200) reached and the optimization hasn\u0027t converged yet.\n  % self.max_iter, ConvergenceWarning)\nD:\\RJAZ\\Anaconda3\\lib\\site-packages\\sklearn\\neural_network\\multilayer_perceptron.py:562: ConvergenceWarning: Stochastic Optimizer: Maximum iterations (200) reached and the optimization hasn\u0027t converged yet.\n  % self.max_iter, ConvergenceWarning)\nD:\\RJAZ\\Anaconda3\\lib\\site-packages\\sklearn\\neural_network\\multilayer_perceptron.py:562: ConvergenceWarning: Stochastic Optimizer: Maximum iterations (200) reached and the optimization hasn\u0027t converged yet.\n  % self.max_iter, ConvergenceWarning)\n",
            "D:\\RJAZ\\Anaconda3\\lib\\site-packages\\sklearn\\neural_network\\multilayer_perceptron.py:562: ConvergenceWarning: Stochastic Optimizer: Maximum iterations (200) reached and the optimization hasn\u0027t converged yet.\n  % self.max_iter, ConvergenceWarning)\n",
            "D:\\RJAZ\\Anaconda3\\lib\\site-packages\\sklearn\\neural_network\\multilayer_perceptron.py:562: ConvergenceWarning: Stochastic Optimizer: Maximum iterations (200) reached and the optimization hasn\u0027t converged yet.\n  % self.max_iter, ConvergenceWarning)\nD:\\RJAZ\\Anaconda3\\lib\\site-packages\\sklearn\\neural_network\\multilayer_perceptron.py:562: ConvergenceWarning: Stochastic Optimizer: Maximum iterations (200) reached and the optimization hasn\u0027t converged yet.\n  % self.max_iter, ConvergenceWarning)\n",
            "D:\\RJAZ\\Anaconda3\\lib\\site-packages\\sklearn\\neural_network\\multilayer_perceptron.py:562: ConvergenceWarning: Stochastic Optimizer: Maximum iterations (200) reached and the optimization hasn\u0027t converged yet.\n  % self.max_iter, ConvergenceWarning)\nD:\\RJAZ\\Anaconda3\\lib\\site-packages\\sklearn\\neural_network\\multilayer_perceptron.py:562: ConvergenceWarning: Stochastic Optimizer: Maximum iterations (200) reached and the optimization hasn\u0027t converged yet.\n  % self.max_iter, ConvergenceWarning)\n",
            "D:\\RJAZ\\Anaconda3\\lib\\site-packages\\sklearn\\neural_network\\multilayer_perceptron.py:562: ConvergenceWarning: Stochastic Optimizer: Maximum iterations (200) reached and the optimization hasn\u0027t converged yet.\n  % self.max_iter, ConvergenceWarning)\n"
          ],
          "output_type": "stream"
        },
        {
          "name": "stdout",
          "text": [
            "交叉验证最高得分:0.78\n模型最优参数:{\u0027mlp__alpha\u0027: 0.1, \u0027mlp__hidden_layer_sizes\u0027: (100,)}\n测试机得分:0.86\n"
          ],
          "output_type": "stream"
        }
      ],
      "source": "params \u003d {\u0027mlp__hidden_layer_sizes\u0027:[(50, ), (100, ), (100, 100)], \n          \u0027mlp__alpha\u0027:[0.0001, 0.001, 0.01, 0.1]}\n\ngrid \u003d GridSearchCV(pipeline, param_grid\u003dparams, cv \u003d 3)\ngrid.fit(X_train, y_train)\nprint(\u0027交叉验证最高得分:{:.2f}\u0027.format(grid.best_score_))\nprint(\u0027模型最优参数:{}\u0027.format(grid.best_params_))\nprint(\u0027测试机得分:{}\u0027.format(grid.score(X_test, y_test)))",
      "metadata": {
        "pycharm": {
          "metadata": false,
          "name": "#%%\n",
          "is_executing": false
        }
      }
    },
    {
      "cell_type": "code",
      "execution_count": 26,
      "outputs": [
        {
          "name": "stdout",
          "text": [
            "[(\u0027sealer\u0027, StandardScaler(copy\u003dTrue, with_mean\u003dTrue, with_std\u003dTrue)), (\u0027mlp\u0027, MLPClassifier(activation\u003d\u0027relu\u0027, alpha\u003d0.0001, batch_size\u003d\u0027auto\u0027, beta_1\u003d0.9,\n       beta_2\u003d0.999, early_stopping\u003dFalse, epsilon\u003d1e-08,\n       hidden_layer_sizes\u003d(100,), learning_rate\u003d\u0027constant\u0027,\n       learning_rate_init\u003d0.001, max_iter\u003d200, momentum\u003d0.9,\n       n_iter_no_change\u003d10, nesterovs_momentum\u003dTrue, power_t\u003d0.5,\n       random_state\u003dNone, shuffle\u003dTrue, solver\u003d\u0027adam\u0027, tol\u003d0.0001,\n       validation_fraction\u003d0.1, verbose\u003dFalse, warm_start\u003dFalse))]\n"
          ],
          "output_type": "stream"
        }
      ],
      "source": "print(pipeline.steps)",
      "metadata": {
        "pycharm": {
          "metadata": false,
          "name": "#%%\n",
          "is_executing": false
        }
      }
    },
    {
      "cell_type": "code",
      "execution_count": 10,
      "outputs": [],
      "source": "import pandas as pd\ndf \u003d pd.read_csv(\u0027data.csv\u0027, encoding\u003d\u0027gbk\u0027, header\u003dNone, sep\u003d\u0027\\t\u0027)\nX \u003d df.loc[:,[i for i in range(3 , 33)]]\ny \u003d df[2]",
      "metadata": {
        "pycharm": {
          "metadata": false,
          "name": "#%%\n",
          "is_executing": false
        }
      }
    },
    {
      "cell_type": "code",
      "execution_count": 11,
      "outputs": [
        {
          "name": "stdout",
          "text": [
            "(3619, 30)\n(3619,)\n"
          ],
          "output_type": "stream"
        }
      ],
      "source": "print(X.shape)\nprint(y.shape)",
      "metadata": {
        "pycharm": {
          "metadata": false,
          "name": "#%%\n",
          "is_executing": false
        }
      }
    },
    {
      "cell_type": "code",
      "execution_count": null,
      "outputs": [],
      "source": "\n",
      "metadata": {
        "pycharm": {
          "metadata": false,
          "name": "#%%\n"
        }
      }
    }
  ],
  "metadata": {
    "language_info": {
      "codemirror_mode": {
        "name": "ipython",
        "version": 2
      },
      "file_extension": ".py",
      "mimetype": "text/x-python",
      "name": "python",
      "nbconvert_exporter": "python",
      "pygments_lexer": "ipython2",
      "version": "2.7.6"
    },
    "kernelspec": {
      "name": "python3",
      "language": "python",
      "display_name": "Python 3"
    }
  },
  "nbformat": 4,
  "nbformat_minor": 0
}