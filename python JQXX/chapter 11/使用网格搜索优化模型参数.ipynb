{
  "cells": [
    {
      "cell_type": "code",
      "execution_count": 2,
      "metadata": {
        "collapsed": true,
        "pycharm": {
          "name": "#%%\n",
          "is_executing": false
        }
      },
      "outputs": [
        {
          "name": "stdout",
          "text": [
            "模型最高分:0.8885499702025688\n最佳参数设置:{\u0027alpha\u0027: 0.01, \u0027最大迭代次数\u0027: 100}\n"
          ],
          "output_type": "stream"
        }
      ],
      "source": "from sklearn.datasets import load_wine\nfrom sklearn.linear_model import Lasso\nfrom sklearn.model_selection import train_test_split\nwine \u003d load_wine()\n\nX_train, X_test, y_train, y_test \u003d train_test_split(wine.data, wine.target, random_state\u003d38)\n\nbest_score \u003d 0\n\nfor alpha in [0.01, 0.1, 1.0, 10.0]:\n    for max_iter in [100, 1000, 5000, 10000]:\n        lasso \u003d Lasso(alpha\u003dalpha, max_iter\u003dmax_iter)\n        \n        lasso.fit(X_train, y_train)\n        \n        score \u003d lasso.score(X_test, y_test)\n        \n        if score \u003e best_score:\n            best_score \u003d score\n            best_parameters \u003d {\u0027alpha\u0027 : alpha, \u0027最大迭代次数\u0027:max_iter}\nprint(\"模型最高分:{}\".format(best_score))\nprint(\"最佳参数设置:{}\".format(best_parameters))\n            "
    },
    {
      "cell_type": "code",
      "execution_count": 3,
      "outputs": [
        {
          "name": "stdout",
          "text": [
            "模型最高分:0.8298747376836272\n最佳参数设置:{\u0027alpha\u0027: 0.1, \u0027最大迭代次数\u0027: 100}\n"
          ],
          "output_type": "stream"
        }
      ],
      "source": "\nX_train, X_test, y_train, y_test \u003d train_test_split(wine.data, wine.target, random_state\u003d0)\n\nbest_score \u003d 0\n\nfor alpha in [0.01, 0.1, 1.0, 10.0]:\n    for max_iter in [100, 1000, 5000, 10000]:\n        lasso \u003d Lasso(alpha\u003dalpha, max_iter\u003dmax_iter)\n        \n        lasso.fit(X_train, y_train)\n        \n        score \u003d lasso.score(X_test, y_test)\n        \n        if score \u003e best_score:\n            best_score \u003d score\n            best_parameters \u003d {\u0027alpha\u0027 : alpha, \u0027最大迭代次数\u0027:max_iter}\nprint(\"模型最高分:{}\".format(best_score))\nprint(\"最佳参数设置:{}\".format(best_parameters))",
      "metadata": {
        "pycharm": {
          "metadata": false,
          "name": "#%%\n",
          "is_executing": false
        }
      }
    },
    {
      "cell_type": "code",
      "execution_count": 4,
      "outputs": [
        {
          "name": "stdout",
          "text": [
            "模型最高分:0.8652073211223437\n最佳参数设置:{\u0027alpha\u0027: 0.01, \u0027最大迭代次数\u0027: 100}\n"
          ],
          "output_type": "stream"
        }
      ],
      "source": "import numpy as np\nfrom sklearn.model_selection import cross_val_score\nfor alpha in [0.01, 0.1, 1.0, 10.0]:\n    for max_iter in [100, 1000, 5000, 10000]:\n        lasso \u003d Lasso(alpha\u003dalpha, max_iter\u003dmax_iter)\n        \n        scores \u003d cross_val_score(lasso, X_train, y_train, cv \u003d 6)\n        score \u003d np.mean(scores)\n        \n        if score \u003e best_score:\n            best_score \u003d score\n            best_parameters \u003d {\u0027alpha\u0027 : alpha, \u0027最大迭代次数\u0027:max_iter}\nprint(\"模型最高分:{}\".format(best_score))\nprint(\"最佳参数设置:{}\".format(best_parameters))\n",
      "metadata": {
        "pycharm": {
          "metadata": false,
          "name": "#%%\n",
          "is_executing": false
        }
      }
    },
    {
      "cell_type": "code",
      "execution_count": 6,
      "outputs": [
        {
          "name": "stdout",
          "text": [
            "测试数据集得分:0.819334891919453\n"
          ],
          "output_type": "stream"
        }
      ],
      "source": "lasso \u003d Lasso(alpha\u003d0.01, max_iter\u003d100).fit(X_train, y_train)\nprint(\u0027测试数据集得分:{}\u0027.format(lasso.score(X_test, y_test)))",
      "metadata": {
        "pycharm": {
          "metadata": false,
          "name": "#%%\n",
          "is_executing": false
        }
      }
    },
    {
      "cell_type": "code",
      "execution_count": 9,
      "outputs": [
        {
          "name": "stdout",
          "text": [
            "模型最高得分:0.819334891919453\n最优参数:{\u0027alpha\u0027: 0.01, \u0027max_iter\u0027: 100}\n"
          ],
          "output_type": "stream"
        },
        {
          "name": "stderr",
          "text": [
            "D:\\RJAZ\\Anaconda3\\lib\\site-packages\\sklearn\\model_selection\\_search.py:841: DeprecationWarning: The default of the `iid` parameter will change from True to False in version 0.22 and will be removed in 0.24. This will change numeric results when test-set sizes are unequal.\n  DeprecationWarning)\n"
          ],
          "output_type": "stream"
        }
      ],
      "source": "\nfrom sklearn.model_selection import GridSearchCV\nparams \u003d {\u0027alpha\u0027:[0.01, 0.1, 1.0, 10.0], \u0027max_iter\u0027:[100, 1000, 5000, 10000]}\ngrid_search \u003d GridSearchCV(lasso, params, cv \u003d 6)\ngrid_search.fit(X_train, y_train)\nprint(\u0027模型最高得分:{}\u0027.format(grid_search.score(X_test, y_test)))\nprint(\u0027最优参数:{}\u0027.format(grid_search.best_params_))",
      "metadata": {
        "pycharm": {
          "metadata": false,
          "name": "#%%\n",
          "is_executing": false
        }
      }
    },
    {
      "cell_type": "code",
      "execution_count": 11,
      "outputs": [
        {
          "name": "stdout",
          "text": [
            "交叉验证最高得分:0.8653192931146032\n"
          ],
          "output_type": "stream"
        }
      ],
      "source": "\nprint(\u0027交叉验证最高得分:{}\u0027.format(grid_search.best_score_))",
      "metadata": {
        "pycharm": {
          "metadata": false,
          "name": "#%%\n",
          "is_executing": false
        }
      }
    },
    {
      "cell_type": "code",
      "execution_count": null,
      "outputs": [],
      "source": "\n",
      "metadata": {
        "pycharm": {
          "metadata": false,
          "name": "#%%\n"
        }
      }
    }
  ],
  "metadata": {
    "language_info": {
      "codemirror_mode": {
        "name": "ipython",
        "version": 2
      },
      "file_extension": ".py",
      "mimetype": "text/x-python",
      "name": "python",
      "nbconvert_exporter": "python",
      "pygments_lexer": "ipython2",
      "version": "2.7.6"
    },
    "kernelspec": {
      "name": "python3",
      "language": "python",
      "display_name": "Python 3"
    }
  },
  "nbformat": 4,
  "nbformat_minor": 0
}