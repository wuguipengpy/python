{
  "cells": [
    {
      "cell_type": "code",
      "execution_count": 2,
      "metadata": {
        "collapsed": true,
        "pycharm": {
          "is_executing": false
        }
      },
      "outputs": [
        {
          "name": "stdout",
          "text": [
            "交叉验证得分:[0.83333333 0.95       1.        ]\n"
          ],
          "output_type": "stream"
        },
        {
          "name": "stderr",
          "text": [
            "D:\\RJAZ\\Anaconda3\\lib\\site-packages\\sklearn\\model_selection\\_split.py:2053: FutureWarning: You should specify a value for \u0027cv\u0027 instead of relying on the default value. The default value will change from 3 to 5 in version 0.22.\n  warnings.warn(CV_WARNING, FutureWarning)\n"
          ],
          "output_type": "stream"
        }
      ],
      "source": "from sklearn.datasets import load_wine\nfrom sklearn.model_selection import cross_val_score\nfrom sklearn.svm import SVC\n\nwine \u003d load_wine()\nsvc \u003d SVC(kernel\u003d\u0027linear\u0027)\n\nscores \u003d cross_val_score(svc, wine.data, wine.target)\nprint(\u0027交叉验证得分:{}\u0027.format(scores))"
    },
    {
      "cell_type": "code",
      "execution_count": 5,
      "outputs": [
        {
          "name": "stdout",
          "text": [
            "交叉验证平均得分:0.928\n"
          ],
          "output_type": "stream"
        }
      ],
      "source": "\nprint(\u0027交叉验证平均得分:{:.3f}\u0027.format(scores.mean()))",
      "metadata": {
        "pycharm": {
          "metadata": false,
          "name": "#%%\n",
          "is_executing": false
        }
      }
    },
    {
      "cell_type": "code",
      "execution_count": 6,
      "outputs": [
        {
          "name": "stdout",
          "text": [
            "交叉验证得分: \n[0.86666667 0.9        0.93333333 0.96666667 1.         1.        ]\n"
          ],
          "output_type": "stream"
        }
      ],
      "source": "\nscores \u003d cross_val_score(svc, wine.data, wine.target, cv\u003d6)\nprint(\u0027交叉验证得分: \\n{}\u0027.format(scores))",
      "metadata": {
        "pycharm": {
          "metadata": false,
          "name": "#%%\n",
          "is_executing": false
        }
      }
    },
    {
      "cell_type": "code",
      "execution_count": 9,
      "outputs": [
        {
          "name": "stdout",
          "text": [
            "交叉验证平均得分:0.944\n"
          ],
          "output_type": "stream"
        }
      ],
      "source": "\nprint(\u0027交叉验证平均得分:{:.3f}\u0027.format(scores.mean()))",
      "metadata": {
        "pycharm": {
          "metadata": false,
          "name": "#%%\n",
          "is_executing": false
        }
      }
    },
    {
      "cell_type": "code",
      "execution_count": 11,
      "outputs": [
        {
          "name": "stdout",
          "text": [
            "酒的数据分类标签: \n[0 0 0 0 0 0 0 0 0 0 0 0 0 0 0 0 0 0 0 0 0 0 0 0 0 0 0 0 0 0 0 0 0 0 0 0 0\n 0 0 0 0 0 0 0 0 0 0 0 0 0 0 0 0 0 0 0 0 0 0 1 1 1 1 1 1 1 1 1 1 1 1 1 1 1\n 1 1 1 1 1 1 1 1 1 1 1 1 1 1 1 1 1 1 1 1 1 1 1 1 1 1 1 1 1 1 1 1 1 1 1 1 1\n 1 1 1 1 1 1 1 1 1 1 1 1 1 1 1 1 1 1 1 2 2 2 2 2 2 2 2 2 2 2 2 2 2 2 2 2 2\n 2 2 2 2 2 2 2 2 2 2 2 2 2 2 2 2 2 2 2 2 2 2 2 2 2 2 2 2 2 2]\n"
          ],
          "output_type": "stream"
        }
      ],
      "source": "\nprint(\u0027酒的数据分类标签: \\n{}\u0027.format(wine.target))",
      "metadata": {
        "pycharm": {
          "metadata": false,
          "name": "#%%\n",
          "is_executing": false
        }
      }
    },
    {
      "cell_type": "code",
      "execution_count": 14,
      "outputs": [
        {
          "name": "stdout",
          "text": [
            "随机拆分交叉验证得分:\n[0.97222222 0.97222222 0.97222222 0.91666667 0.94444444 1.\n 0.86111111 0.97222222 0.97222222 0.94444444]\n"
          ],
          "output_type": "stream"
        }
      ],
      "source": "\nfrom sklearn.model_selection import ShuffleSplit\nshuffle_split \u003d ShuffleSplit(test_size\u003d.2, train_size\u003d.7, n_splits\u003d10)\nscores \u003d cross_val_score(svc, wine.data, wine.target, cv \u003d shuffle_split)\nprint(\u0027随机拆分交叉验证得分:\\n{}\u0027.format(scores))",
      "metadata": {
        "pycharm": {
          "metadata": false,
          "name": "#%%\n",
          "is_executing": false
        }
      }
    },
    {
      "cell_type": "code",
      "execution_count": 16,
      "outputs": [
        {
          "name": "stdout",
          "text": [
            "迭代次数:178\n模型评分:0.9550561797752809\n"
          ],
          "output_type": "stream"
        }
      ],
      "source": "\nfrom sklearn.model_selection import LeaveOneOut\ncv \u003d LeaveOneOut()\nscores \u003d cross_val_score(svc, wine.data, wine.target, cv \u003d cv)\nprint(\u0027迭代次数:{}\u0027.format(len(scores)))\nprint(\u0027模型评分:{}\u0027.format(scores.mean()))",
      "metadata": {
        "pycharm": {
          "metadata": false,
          "name": "#%%\n",
          "is_executing": false
        }
      }
    },
    {
      "cell_type": "code",
      "execution_count": null,
      "outputs": [],
      "source": "\n",
      "metadata": {
        "pycharm": {
          "metadata": false,
          "name": "#%%\n"
        }
      }
    }
  ],
  "metadata": {
    "language_info": {
      "codemirror_mode": {
        "name": "ipython",
        "version": 2
      },
      "file_extension": ".py",
      "mimetype": "text/x-python",
      "name": "python",
      "nbconvert_exporter": "python",
      "pygments_lexer": "ipython2",
      "version": "2.7.6"
    },
    "kernelspec": {
      "name": "python3",
      "language": "python",
      "display_name": "Python 3"
    }
  },
  "nbformat": 4,
  "nbformat_minor": 0
}