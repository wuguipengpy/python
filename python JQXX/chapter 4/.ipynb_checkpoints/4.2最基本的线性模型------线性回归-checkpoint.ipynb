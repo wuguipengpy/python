{
 "cells": [
  {
   "cell_type": "code",
   "execution_count": 16,
   "metadata": {
    "collapsed": true
   },
   "outputs": [],
   "source": [
    "from sklearn.model_selection import train_test_split\n",
    "from sklearn.linear_model import LinearRegression\n",
    "from sklearn.datasets import make_regression\n",
    "\n",
    "x, y = make_regression(n_samples = 100, n_features = 2, n_informative = 2, random_state = 38)\n",
    "\n",
    "x_train, x_test, y_train, y_test = train_test_split(x, y, random_state = 8)\n",
    "lr = LinearRegression().fit(x_train, y_train)"
   ]
  },
  {
   "cell_type": "code",
   "execution_count": 17,
   "metadata": {},
   "outputs": [
    {
     "name": "stdout",
     "output_type": "stream",
     "text": [
      "\n",
      "\n",
      "\n",
      "代码运行结果：\n",
      "===========\n",
      "\n",
      "lr.coef_: [ 70.38592453   7.43213621]\n",
      "lr.intercept_: -1.4210854715202004e-14\n",
      "\n",
      "==========\n",
      "\n",
      "\n",
      "\n",
      "\n"
     ]
    }
   ],
   "source": [
    "print('\\n\\n\\n代码运行结果：')\n",
    "print('===========\\n')\n",
    "print(\"lr.coef_: {}\".format(lr.coef_[:]))\n",
    "print(\"lr.intercept_: {}\".format(lr.intercept_))\n",
    "print('\\n==========')\n",
    "print('\\n\\n\\n')"
   ]
  },
  {
   "cell_type": "code",
   "execution_count": 18,
   "metadata": {},
   "outputs": [
    {
     "name": "stdout",
     "output_type": "stream",
     "text": [
      "\n",
      "\n",
      "\n",
      "代码运行结果：\n",
      "===========\n",
      "\n",
      "训练数据集的分：1.000000\n",
      "测试数据集的分：1.000000\n",
      "\n",
      "==========\n",
      "\n",
      "\n",
      "\n",
      "\n"
     ]
    }
   ],
   "source": [
    "print('\\n\\n\\n代码运行结果：')\n",
    "print('===========\\n')\n",
    "print(\"训练数据集的分：{:2f}\".format(lr.score(x_train, y_train)))\n",
    "print(\"测试数据集的分：{:2f}\".format(lr.score(x_test, y_test)))\n",
    "print('\\n==========')\n",
    "print('\\n\\n\\n')"
   ]
  },
  {
   "cell_type": "code",
   "execution_count": 19,
   "metadata": {
    "collapsed": true
   },
   "outputs": [],
   "source": [
    "from sklearn.datasets import load_diabetes\n",
    "\n",
    "x, y = load_diabetes().data, load_diabetes().target\n",
    "\n",
    "x_train, x_test, y_train, y_test = train_test_split(x, y, random_state = 8)\n",
    "\n",
    "lr = LinearRegression().fit(x_train, y_train)"
   ]
  },
  {
   "cell_type": "code",
   "execution_count": 20,
   "metadata": {},
   "outputs": [
    {
     "name": "stdout",
     "output_type": "stream",
     "text": [
      "\n",
      "\n",
      "\n",
      "代码运行结果：\n",
      "===========\n",
      "\n",
      "训练数据集的分：0.530381\n",
      "测试数据集的分：0.459344\n",
      "\n",
      "==========\n",
      "\n",
      "\n",
      "\n",
      "\n"
     ]
    }
   ],
   "source": [
    "print('\\n\\n\\n代码运行结果：')\n",
    "print('===========\\n')\n",
    "print(\"训练数据集的分：{:2f}\".format(lr.score(x_train, y_train)))\n",
    "print(\"测试数据集的分：{:2f}\".format(lr.score(x_test, y_test)))\n",
    "print('\\n==========')\n",
    "print('\\n\\n\\n')"
   ]
  },
  {
   "cell_type": "code",
   "execution_count": 21,
   "metadata": {
    "collapsed": true
   },
   "outputs": [],
   "source": [
    "from sklearn.linear_model import Ridge\n",
    "\n",
    "ridge = Ridge().fit(x_train, y_train)"
   ]
  },
  {
   "cell_type": "code",
   "execution_count": 22,
   "metadata": {},
   "outputs": [
    {
     "name": "stdout",
     "output_type": "stream",
     "text": [
      "\n",
      "\n",
      "\n",
      "代码运行结果：\n",
      "===========\n",
      "\n",
      "训练数据集的分：0.43\n",
      "测试数据集的分：0.43\n",
      "\n",
      "==========\n",
      "\n",
      "\n",
      "\n",
      "\n"
     ]
    }
   ],
   "source": [
    "print('\\n\\n\\n代码运行结果：')\n",
    "print('===========\\n')\n",
    "print(\"训练数据集的分：{:.2f}\".format(ridge.score(x_train, y_train)))\n",
    "print(\"测试数据集的分：{:.2f}\".format(ridge.score(x_test, y_test)))\n",
    "print('\\n==========')\n",
    "print('\\n\\n\\n')"
   ]
  },
  {
   "cell_type": "code",
   "execution_count": 23,
   "metadata": {
    "collapsed": true
   },
   "outputs": [],
   "source": [
    "ridge10 = Ridge(alpha = 10).fit(x_train, y_train)\n",
    "ridge01 = Ridge(alpha = 0.1).fit(x_train, y_train)"
   ]
  },
  {
   "cell_type": "code",
   "execution_count": 24,
   "metadata": {},
   "outputs": [
    {
     "name": "stdout",
     "output_type": "stream",
     "text": [
      "\n",
      "\n",
      "\n",
      "代码运行结果：\n",
      "===========\n",
      "\n",
      "训练数据集的分：0.151200\n",
      "测试数据集的分：0.162020\n",
      "\n",
      "==========\n",
      "\n",
      "\n",
      "\n",
      "\n"
     ]
    }
   ],
   "source": [
    "print('\\n\\n\\n代码运行结果：')\n",
    "print('===========\\n')\n",
    "print(\"训练数据集的分：{:2f}\".format(ridge10.score(x_train, y_train)))\n",
    "print(\"测试数据集的分：{:2f}\".format(ridge10.score(x_test, y_test)))\n",
    "print('\\n==========')\n",
    "print('\\n\\n\\n')"
   ]
  },
  {
   "cell_type": "code",
   "execution_count": 25,
   "metadata": {
    "collapsed": true
   },
   "outputs": [],
   "source": [
    "import matplotlib.pyplot as plt\n",
    "lr = LinearRegression().fit(x_train, y_train)"
   ]
  },
  {
   "cell_type": "code",
   "execution_count": 26,
   "metadata": {},
   "outputs": [
    {
     "data": {
      "image/png": "[encoded data removed]",
      "text/plain": [
       "<matplotlib.figure.Figure at 0x2531f081b70>"
      ]
     },
     "metadata": {},
     "output_type": "display_data"
    }
   ],
   "source": [
    "plt.plot(ridge.coef_, 's', label = 'Ridge alpha = 1')\n",
    "\n",
    "plt.plot(ridge10.coef_, 's', label = 'Ridge alpha = 10')\n",
    "\n",
    "plt.plot(ridge01.coef_, 's', label = 'Ridge alpha = 0.1')\n",
    "\n",
    "plt.plot(lr.coef_, 'o', label = 'Linear regression')\n",
    "plt.xlabel(\"coefficient index\")\n",
    "plt.ylabel(\"coefficiret magnitude\")\n",
    "plt.hlines(0, 0, len(lr.coef_))\n",
    "plt.show()"
   ]
  },
  {
   "cell_type": "code",
   "execution_count": 27,
   "metadata": {},
   "outputs": [
    {
     "data": {
      "image/png": "[encoded data removed]",
      "text/plain": [
       "<matplotlib.figure.Figure at 0x2531f096da0>"
      ]
     },
     "metadata": {},
     "output_type": "display_data"
    }
   ],
   "source": [
    "from sklearn.model_selection import learning_curve, KFold\n",
    "import numpy as np\n",
    "\n",
    "def plot_learning_curve(est, x, y):\n",
    "    \n",
    "    training_set_size, train_scores, test_scores = learning_curve(est, x, y, train_sizes = np.linspace(.1, 1, 20), cv = KFold(20, shuffle = True, random_state=1))\n",
    "    \n",
    "    esrumator_name = est.__class__.__name__\n",
    "    line = plt.plot(training_set_size, train_scores.mean(axis = 1), '--', label = \"training\" + esrumator_name)\n",
    "    \n",
    "    plt.plot(training_set_size, train_scores.mean(axis = 1), '--', label = \"test\" + esrumator_name, c = line[0].get_color())\n",
    "    \n",
    "    plt.xlabel(\"Training set size\")\n",
    "    plt.ylabel(\"Score\")\n",
    "    plt.ylim(0, 1.1)\n",
    "    \n",
    "plot_learning_curve(Ridge(alpha = 1), x, y)\n",
    "plot_learning_curve(LinearRegression(), x, y)\n",
    "plt.legend(loc = (0, 1.05), ncol = 2, fontsize = 11)\n",
    "plt.show()"
   ]
  },
  {
   "cell_type": "markdown",
   "metadata": {
    "collapsed": true
   },
   "source": [
    "# 邻回归"
   ]
  },
  {
   "cell_type": "code",
   "execution_count": 29,
   "metadata": {},
   "outputs": [],
   "source": []
  },
  {
   "cell_type": "code",
   "execution_count": 32,
   "metadata": {},
   "outputs": [
    {
     "name": "stdout",
     "output_type": "stream",
     "text": [
      "\n",
      "\n",
      "\n",
      "代码结果：\n",
      "\n",
      "==================\n",
      "邻回归的训练数据集得分：0.43\n",
      "邻回归的测试数据集得分: 0.43\n",
      "===================\n",
      "\n",
      "\n",
      "\n",
      "\n",
      "\n"
     ]
    }
   ],
   "source": []
  },
  {
   "cell_type": "code",
   "execution_count": null,
   "metadata": {
    "collapsed": true
   },
   "outputs": [],
   "source": []
  }
 ],
 "metadata": {
  "kernelspec": {
   "display_name": "Python 3",
   "language": "python",
   "name": "python3"
  },
  "language_info": {
   "codemirror_mode": {
    "name": "ipython",
    "version": 3
   },
   "file_extension": ".py",
   "mimetype": "text/x-python",
   "name": "python",
   "nbconvert_exporter": "python",
   "pygments_lexer": "ipython3",
   "version": "3.6.1"
  }
 },
 "nbformat": 4,
 "nbformat_minor": 2
}
