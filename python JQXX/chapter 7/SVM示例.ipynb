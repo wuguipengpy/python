{
  "cells": [
    {
      "cell_type": "code",
      "execution_count": 11,
      "metadata": {
        "collapsed": true,
        "pycharm": {
          "is_executing": false
        }
      },
      "outputs": [
        {
          "name": "stdout",
          "text": [
            "linear 核函数的模型训练集得分:0.709\nlinear 核函数的模型测试集得分:0.696\nrbf 核函数的模型训练集得分:0.145\nrbf 核函数的模型测试集得分:0.001\n"
          ],
          "output_type": "stream"
        },
        {
          "name": "stderr",
          "text": [
            "D:\\RJAZ\\Anaconda3\\lib\\site-packages\\sklearn\\svm\\base.py:196: FutureWarning: The default value of gamma will change from \u0027auto\u0027 to \u0027scale\u0027 in version 0.22 to account better for unscaled features. Set gamma explicitly to \u0027auto\u0027 or \u0027scale\u0027 to avoid this warning.\n  \"avoid this warning.\", FutureWarning)\n"
          ],
          "output_type": "stream"
        }
      ],
      "source": "import matplotlib.pyplot as plt\nfrom sklearn.datasets import load_boston\nfrom sklearn.model_selection import train_test_split\nfrom sklearn.svm import SVR\n\nboston \u003d load_boston()\nX, y \u003d boston.data, boston.target\nX_train, X_test, y_train, y_test \u003d train_test_split(X, y, random_state\u003d8)\n\nfor kernel in [\u0027linear\u0027, \u0027rbf\u0027]:\n    svr \u003d SVR(kernel\u003dkernel)\n    svr.fit(X_train, y_train)\n    print(kernel, \"核函数的模型训练集得分:{:.3f}\".format(svr.score(X_train, y_train)))\n    print(kernel, \"核函数的模型测试集得分:{:.3f}\".format(svr.score(X_test, y_test)))\n"
    },
    {
      "cell_type": "code",
      "execution_count": 12,
      "outputs": [
        {
          "data": {
            "text/plain": "\u003cFigure size 432x288 with 1 Axes\u003e",
            "image/png": "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\u003d\u003d\n"
          },
          "metadata": {
            "needs_background": "light"
          },
          "output_type": "display_data"
        }
      ],
      "source": "plt.plot(X.min(axis \u003d 0), \u0027v\u0027, label \u003d \u0027min\u0027)\nplt.plot(X.max(axis \u003d 0), \u0027^\u0027, label \u003d \u0027max\u0027)\n\nplt.yscale(\u0027log\u0027)\n\nplt.legend(loc \u003d \u0027best\u0027)\n\nplt.show()",
      "metadata": {
        "pycharm": {
          "metadata": false,
          "name": "#%%\n",
          "is_executing": false
        }
      }
    },
    {
      "cell_type": "code",
      "execution_count": 16,
      "outputs": [
        {
          "data": {
            "text/plain": "\u003cFigure size 432x288 with 1 Axes\u003e",
            "image/png": "[encoded data removed]"
          },
          "metadata": {
            "needs_background": "light"
          },
          "output_type": "display_data"
        }
      ],
      "source": "from sklearn.preprocessing import StandardScaler\nscaler \u003d StandardScaler()\nscaler.fit(X_train)\nX_train_scaled \u003d scaler.transform(X_train)\nX_test_scaled \u003d scaler.transform(X_test)\n\nplt.plot(X_train_scaled.min(axis \u003d 0), \u0027v\u0027, label \u003d \u0027train set min\u0027)\nplt.plot(X_train_scaled.max(axis \u003d 0), \u0027^\u0027, label \u003d \u0027train set max\u0027)\nplt.plot(X_test_scaled.min(axis \u003d 0), \u0027v\u0027, label \u003d \u0027test set min\u0027)\nplt.plot(X_test_scaled.max(axis \u003d 0), \u0027^\u0027, label \u003d \u0027test set max\u0027)\n\nplt.yscale(\u0027log\u0027)\n\nplt.legend(loc \u003d \u0027best\u0027)\n\nplt.show()\n",
      "metadata": {
        "pycharm": {
          "metadata": false,
          "name": "#%%\n",
          "is_executing": false
        }
      }
    },
    {
      "cell_type": "code",
      "execution_count": 18,
      "outputs": [
        {
          "name": "stdout",
          "text": [
            "linear 核函数的模型训练集得分:0.706\nlinear 核函数的模型测试集得分:0.698\nrbf 核函数的模型训练集得分:0.665\nrbf 核函数的模型测试集得分:0.695\n"
          ],
          "output_type": "stream"
        }
      ],
      "source": "for kernel in [\u0027linear\u0027, \u0027rbf\u0027]:\n    svr \u003d SVR(kernel\u003dkernel)\n    svr.fit(X_train_scaled, y_train)\n    print(kernel, \"核函数的模型训练集得分:{:.3f}\".format(svr.score(X_train_scaled, y_train)))\n    print(kernel, \"核函数的模型测试集得分:{:.3f}\".format(svr.score(X_test_scaled, y_test)))",
      "metadata": {
        "pycharm": {
          "metadata": false,
          "name": "#%%\n",
          "is_executing": false
        }
      }
    },
    {
      "cell_type": "code",
      "execution_count": 23,
      "outputs": [
        {
          "name": "stdout",
          "text": [
            "调节参数后核函数的模型训练集得分:0.999\n调节参数后核函数的模型测试集得分:0.092\n"
          ],
          "output_type": "stream"
        }
      ],
      "source": "svr \u003d SVR(C \u003d 100, gamma\u003d0.1)\nsvr.fit(X_train, y_train)\nprint(\"调节参数后核函数的模型训练集得分:{:.3f}\".format(svr.score(X_train, y_train)))\nprint(\"调节参数后核函数的模型测试集得分:{:.3f}\".format(svr.score(X_test, y_test)))",
      "metadata": {
        "pycharm": {
          "metadata": false,
          "name": "#%%\n",
          "is_executing": false
        }
      }
    },
    {
      "cell_type": "code",
      "execution_count": null,
      "outputs": [],
      "source": "\n",
      "metadata": {
        "pycharm": {
          "metadata": false,
          "name": "#%%\n"
        }
      }
    }
  ],
  "metadata": {
    "language_info": {
      "codemirror_mode": {
        "name": "ipython",
        "version": 2
      },
      "file_extension": ".py",
      "mimetype": "text/x-python",
      "name": "python",
      "nbconvert_exporter": "python",
      "pygments_lexer": "ipython2",
      "version": "2.7.6"
    },
    "kernelspec": {
      "name": "python3",
      "language": "python",
      "display_name": "Python 3"
    },
    "stem_cell": {
      "cell_type": "raw",
      "source": "",
      "metadata": {
        "pycharm": {
          "metadata": false
        }
      }
    }
  },
  "nbformat": 4,
  "nbformat_minor": 0
}