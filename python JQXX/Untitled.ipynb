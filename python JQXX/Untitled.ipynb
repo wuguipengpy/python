{
 "cells": [
  {
   "cell_type": "code",
   "execution_count": 1,
   "metadata": {},
   "outputs": [
    {
     "ename": "SyntaxError",
     "evalue": "invalid syntax (<ipython-input-1-e44b88bd1ec1>, line 9)",
     "output_type": "error",
     "traceback": [
      "\u001b[1;36m  File \u001b[1;32m\"<ipython-input-1-e44b88bd1ec1>\"\u001b[1;36m, line \u001b[1;32m9\u001b[0m\n\u001b[1;33m    fig = plt.figure()\u001b[0m\n\u001b[1;37m      ^\u001b[0m\n\u001b[1;31mSyntaxError\u001b[0m\u001b[1;31m:\u001b[0m invalid syntax\n"
     ]
    }
   ],
   "source": [
    "import math\n",
    "import matplotlib.pyplot as plt\n",
    "import numpy as np\n",
    "\n",
    "x = np.linspace(-math.pi, math.pi, num = 48)\n",
    "y = np.sin(x + 0.5 * np.random.standard_normal(len(x)))\n",
    "y_error = (0.1 * np.random.stendard_normal(len(x))\n",
    "\n",
    "fig = plt.figure()\n",
    "axis = fig.add_subplot(111)\n",
    "\n",
    "axis.set_ylim(-0.5 * math.pi, 0.5 * math.pi)\n",
    "\n",
    "plt.plot(x, y, 'r--', label = 'sin(x)')\n",
    "plt.errorbar(x, y, yerr = y_error)\n",
    "\n",
    "plt.legend(loc = 'best')\n",
    "plt.show()"
   ]
  },
  {
   "cell_type": "code",
   "execution_count": null,
   "metadata": {
    "collapsed": true
   },
   "outputs": [],
   "source": []
  }
 ],
 "metadata": {
  "kernelspec": {
   "display_name": "Python 3",
   "language": "python",
   "name": "python3"
  }
 },
 "nbformat": 4,
 "nbformat_minor": 2
}
