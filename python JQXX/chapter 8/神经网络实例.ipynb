{
  "cells": [
    {
      "cell_type": "code",
      "execution_count": 16,
      "outputs": [
        {
          "name": "stderr",
          "text": [
            "D:\\RJAZ\\Anaconda3\\lib\\site-packages\\sklearn\\utils\\deprecation.py:77: DeprecationWarning: Function fetch_mldata is deprecated; fetch_mldata was deprecated in version 0.20 and will be removed in version 0.22\n  warnings.warn(msg, category\u003dDeprecationWarning)\nD:\\RJAZ\\Anaconda3\\lib\\site-packages\\sklearn\\utils\\deprecation.py:77: DeprecationWarning: Function mldata_filename is deprecated; mldata_filename was deprecated in version 0.20 and will be removed in version 0.22\n  warnings.warn(msg, category\u003dDeprecationWarning)\n"
          ],
          "output_type": "stream"
        }
      ],
      "source": "from sklearn.datasets import fetch_mldata\nmnist \u003d fetch_mldata(\u0027MNIST Original\u0027, data_home\u003d\u0027./datasets\u0027)",
      "metadata": {
        "pycharm": {
          "metadata": false,
          "name": "#%%\n",
          "is_executing": false
        }
      }
    },
    {
      "cell_type": "code",
      "execution_count": 17,
      "outputs": [
        {
          "data": {
            "text/plain": "{\u0027DESCR\u0027: \u0027mldata.org dataset: mnist-original\u0027,\n \u0027COL_NAMES\u0027: [\u0027label\u0027, \u0027data\u0027],\n \u0027target\u0027: array([0., 0., 0., ..., 9., 9., 9.]),\n \u0027data\u0027: array([[0, 0, 0, ..., 0, 0, 0],\n        [0, 0, 0, ..., 0, 0, 0],\n        [0, 0, 0, ..., 0, 0, 0],\n        ...,\n        [0, 0, 0, ..., 0, 0, 0],\n        [0, 0, 0, ..., 0, 0, 0],\n        [0, 0, 0, ..., 0, 0, 0]], dtype\u003duint8)}"
          },
          "metadata": {},
          "output_type": "execute_result",
          "execution_count": 17
        }
      ],
      "source": "mnist",
      "metadata": {
        "pycharm": {
          "metadata": false,
          "name": "#%%\n",
          "is_executing": false
        }
      }
    },
    {
      "cell_type": "code",
      "execution_count": 18,
      "outputs": [
        {
          "name": "stdout",
          "text": [
            "样本数量:70000, 样本特征:784\n"
          ],
          "output_type": "stream"
        }
      ],
      "source": "print(\u0027样本数量:{}, 样本特征:{}\u0027.format(mnist.data.shape[0], mnist.data.shape[1]))",
      "metadata": {
        "pycharm": {
          "metadata": false,
          "name": "#%%\n",
          "is_executing": false
        }
      }
    },
    {
      "cell_type": "code",
      "execution_count": 19,
      "outputs": [],
      "source": "from sklearn.model_selection import train_test_split\nX \u003d mnist.data/255.\ny \u003d mnist.target\n\nX_train, X_test, y_train, y_test \u003d train_test_split(X, y, train_size\u003d5000, test_size\u003d1000, random_state\u003d62)",
      "metadata": {
        "pycharm": {
          "metadata": false,
          "name": "#%%\n",
          "is_executing": false
        }
      }
    },
    {
      "cell_type": "code",
      "execution_count": 21,
      "outputs": [
        {
          "name": "stdout",
          "text": [
            "测试数据得分:93.60%\n"
          ],
          "output_type": "stream"
        }
      ],
      "source": "from sklearn.neural_network import MLPClassifier\nmlp_hw \u003d MLPClassifier(solver\u003d\u0027lbfgs\u0027, hidden_layer_sizes\u003d[100, 100], activation\u003d\u0027relu\u0027, alpha\u003d1e-5, random_state\u003d62)\nmlp_hw.fit(X_train, y_train)\n\nprint(\u0027测试数据得分:{:.2f}%\u0027.format(mlp_hw.score(X_test, y_test) * 100))",
      "metadata": {
        "pycharm": {
          "metadata": false,
          "name": "#%%\n",
          "is_executing": false
        }
      }
    },
    {
      "cell_type": "code",
      "execution_count": 46,
      "outputs": [
        {
          "name": "stdout",
          "text": [
            "图片中的数字是:2\n"
          ],
          "output_type": "stream"
        }
      ],
      "source": "import numpy as np\nfrom PIL import Image\nimage \u003d Image.open(\u00274.png\u0027).convert(\u0027F\u0027)\nimage \u003d image.resize((28, 28))\narr \u003d []\nfor i in range(28):\n    for j in range(28):\n        pixel \u003d 1.0-float(image.getpixel((j, i)))/255.\n        arr.append(pixel)\narr1 \u003d np.array(arr).reshape(1, -1)\nprint(\u0027图片中的数字是:{:.0f}\u0027.format(mlp_hw.predict(arr1)[0]))",
      "metadata": {
        "pycharm": {
          "metadata": false,
          "name": "#%%\n",
          "is_executing": false
        }
      }
    },
    {
      "cell_type": "code",
      "execution_count": 43,
      "outputs": [
        {
          "name": "stdout",
          "text": [
            "\u003cPIL.Image.Image image mode\u003dF size\u003d28x28 at 0x27E1A3027F0\u003e\n"
          ],
          "output_type": "stream"
        }
      ],
      "source": "\n\n\n",
      "metadata": {
        "pycharm": {
          "metadata": false,
          "name": "#%%\n",
          "is_executing": false
        }
      }
    }
  ],
  "metadata": {
    "language_info": {
      "codemirror_mode": {
        "name": "ipython",
        "version": 2
      },
      "file_extension": ".py",
      "mimetype": "text/x-python",
      "name": "python",
      "nbconvert_exporter": "python",
      "pygments_lexer": "ipython2",
      "version": "2.7.6"
    },
    "kernelspec": {
      "name": "python3",
      "language": "python",
      "display_name": "Python 3"
    },
    "stem_cell": {
      "cell_type": "raw",
      "source": "",
      "metadata": {
        "pycharm": {
          "metadata": false
        }
      }
    }
  },
  "nbformat": 4,
  "nbformat_minor": 0
}