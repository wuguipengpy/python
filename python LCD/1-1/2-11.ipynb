{
 "cells": [
  {
   "cell_type": "code",
   "execution_count": 10,
   "metadata": {
    "collapsed": true
   },
   "outputs": [],
   "source": [
    "invoice = \"\"\"\n",
    "0     6                                40        52   55  \n",
    "1909  Pimoroni PiBrella                    $17.50   3     $52.50\n",
    "1489  6mm Tactile Switch x20               $4.95    2     $9.9\n",
    "1510  Panavise Jr. - PV-201                $28.00    1    $28.00\n",
    "1601  PiTFT Mini Kit 320x240               $34.95    1    $34.95\n",
    "\"\"\""
   ]
  },
  {
   "cell_type": "code",
   "execution_count": 11,
   "metadata": {},
   "outputs": [
    {
     "name": "stdout",
     "output_type": "stream",
     "text": [
      "   $17.50    Pimoroni PiBrella                 \n",
      "   $4.95     6mm Tactile Switch x20            \n",
      "   $28.00    Panavise Jr. - PV-201             \n",
      "   $34.95    PiTFT Mini Kit 320x240            \n",
      " \n"
     ]
    }
   ],
   "source": [
    "SKU = slice(0, 6)\n",
    "DESCRIPTION = slice(6, 40)\n",
    "UNIT_PRICE = slice(40, 52)\n",
    "ITEM_TOTAL = slice(52, 50)\n",
    "line_items = invoice.split('\\n')[2 :]\n",
    "for item in line_items:\n",
    "    print(item[UNIT_PRICE], item[DESCRIPTION])"
   ]
  },
  {
   "cell_type": "code",
   "execution_count": null,
   "metadata": {
    "collapsed": true
   },
   "outputs": [],
   "source": []
  }
 ],
 "metadata": {
  "kernelspec": {
   "display_name": "Python 3",
   "language": "python",
   "name": "python3"
  },
  "language_info": {
   "codemirror_mode": {
    "name": "ipython",
    "version": 3
   },
   "file_extension": ".py",
   "mimetype": "text/x-python",
   "name": "python",
   "nbconvert_exporter": "python",
   "pygments_lexer": "ipython3",
   "version": "3.6.1"
  }
 },
 "nbformat": 4,
 "nbformat_minor": 2
}
